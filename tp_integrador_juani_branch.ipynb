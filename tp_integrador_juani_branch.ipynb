{
 "cells": [
  {
   "cell_type": "markdown",
   "id": "109952c9",
   "metadata": {},
   "source": [
    "# Trabajo Integrador"
   ]
  },
  {
   "cell_type": "markdown",
   "id": "7622c60a",
   "metadata": {},
   "source": [
    "## 1. Selección del dataset\n",
    "Elegimos el **dataset 1**, que contiene datos sobre distintas estaciones meteorológicas de Australia."
   ]
  },
  {
   "cell_type": "code",
   "execution_count": null,
   "id": "a73980e2",
   "metadata": {},
   "outputs": [],
   "source": [
    "import pandas as pd\n",
    "import numpy as np\n",
    "import seaborn as sns\n",
    "import matplotlib.pyplot as plt\n",
    "import math"
   ]
  },
  {
   "cell_type": "code",
   "execution_count": null,
   "id": "cd8e039d",
   "metadata": {},
   "outputs": [],
   "source": [
    "# Seteo esta opcion en True para evitar que me exprese los valores numericos con notacion cientifica\n",
    "np.set_printoptions(suppress=True)"
   ]
  },
  {
   "cell_type": "code",
   "execution_count": null,
   "id": "f106c1fb",
   "metadata": {},
   "outputs": [],
   "source": [
    "australian_weather_data = pd.read_csv('./data/weatherAUS.csv',encoding='utf-8',sep=',',skipinitialspace=True)"
   ]
  },
  {
   "cell_type": "code",
   "execution_count": null,
   "id": "56f76c42",
   "metadata": {},
   "outputs": [],
   "source": [
    "australian_weather_data"
   ]
  },
  {
   "cell_type": "markdown",
   "id": "4c92c8cb",
   "metadata": {},
   "source": [
    "## 2. Análisis exploratorio inicial\n",
    "\n",
    "- Visualizar las primeras filas.\n",
    "- Realizar un resumen de 5 números.\n",
    "- Identificar los tipos de datos: categórico, ordinal, etc. Responder para cada variable su tipo y si es informativa para un problema de clasificación (por ejemplo si se trata de un código, como una matrícula, o un nombre propio).\n",
    "- Identificar las variables de entrada y de salida del problema.\n",
    "- Variables de entrada:\n",
    "    - Realizar los siguientes análisis por tipo de variable:\n",
    "        - Numéricas: Obtener conclusiones acerca de la distribución de los datos.\n",
    "        - Categóricas: Obtener conclusiones acerca de la cardinalidad, representación de cada categoría, etc.\n",
    "        - Compuestas: ¿Pueden tratarse para utilizarse en el problema a resolver?\n",
    "- Variables de salida (en caso de aplicar):\n",
    "    - ¿Están balanceadas las clases?\n",
    "    - (en caso de aplicar) ¿Qué técnicas consideraría para codificar la variable de salida? Justifique."
   ]
  },
  {
   "cell_type": "markdown",
   "id": "e76a4bee",
   "metadata": {},
   "source": [
    "**Visualizamos las primeras filas**"
   ]
  },
  {
   "cell_type": "code",
   "execution_count": null,
   "id": "525da896",
   "metadata": {},
   "outputs": [],
   "source": [
    "australian_weather_data.head(5)"
   ]
  },
  {
   "cell_type": "markdown",
   "id": "bdd547bf",
   "metadata": {},
   "source": [
    "**Identificamos los tipos de datos**"
   ]
  },
  {
   "cell_type": "code",
   "execution_count": null,
   "id": "95f68927",
   "metadata": {},
   "outputs": [],
   "source": [
    "australian_weather_data.info()"
   ]
  },
  {
   "cell_type": "code",
   "execution_count": null,
   "id": "04ca0aaa",
   "metadata": {},
   "outputs": [],
   "source": [
    "australian_weather_data.describe()"
   ]
  },
  {
   "cell_type": "markdown",
   "id": "aed6962d",
   "metadata": {},
   "source": [
    "| Variable | Descripción | Tipo | Es informativa | Entrada / Salida | \n",
    "| -------- | ---------- | ---- | -------------- | ---------------- |\n",
    "| Date     | Fecha de la medición | Fecha/Hora | Si | Entrada |\n",
    "| Location | Ubicación geográfica | Categorica Nominal | Si | Entrada |\n",
    "| MinTemp | Temperatura mínima registrada (celsius) | Numérica Continua | Si | Entrada |\n",
    "| MaxTemp | Temperatura máxima registrada (celsius) |Numérica Continua | Si | Entrada |\n",
    "| Rainfall | Precipitaciones registradas (mm) | Numérica Continua | Si | Entrada |\n",
    "| Evaporation | Evaporación registrada (mm) | Numérica Continua | Si | Entrada |\n",
    "| Sunshine | Cantidad de horas de sol | Numérica Continua | Si | Entrada |\n",
    "| WindGustDir | Dirección del viento más fuerte registrado durante el día | Categórica Nominal | Si | Entrada |\n",
    "| WindGustSpeed | Velocidad del viento más fuerte registrada durante el día (km/h) | Numérica continua | Si | Entrada |\n",
    "| WindDir9am | Dirección del viento registrada a las 9 am | Categórica Nominal | Si | Entrada |\n",
    "| WindDir3pm | Dirección del viento registrada a las 3 pm | Categórica Nominal | Si | Entrada |\n",
    "| WindSpeed9am | Velocidad del viento registrada a las 9 am (km/h) | Numérica continua | Si | Entrada |\n",
    "| WindSpeed3pm | Velocidad del viento registrada a las 3 pm (km/h) | Numérica continua | Si | Entrada |\n",
    "| Humidity9am | Humedad registrada a las 9 am (%) | Numérica continua | Si | Entrada |\n",
    "| Humidity3pm | Humedad registrada a las 3 pm (%) | Numérica continua | Si | Entrada |\n",
    "| Pressure9am | Presión atmosférica registrada a las 9 am (hpa) | Numérica continua | Si | Entrada |\n",
    "| Pressure3pm | Presión atmosférica registrada a las 3 pm (hpa) | Numérica continua | Si | Entrada |\n",
    "| Cloud9am | Fracción del cielo oscurecido por las nubesa las 9 am | Numérica continua | Si | Entrada |\n",
    "| Cloud3pm | Fracción del cielo oscurecido por las nubesa las 3 pm | Numérica continua | Si | Entrada |\n",
    "| Temp9am | Temperatura registrada a las 9 am (celsius) | Numérica continua | Si | Entrada |\n",
    "| Temp3pm | Temperatura registrada a las 3 pm (celsius) | Numérica continua | Si | Entrada |\n",
    "| RainToday | Flag que indica si llovio durante el día (Yes/No) | Categorica Nominal | Si | Entrada |\n",
    "| RainTomorrow | Flag que indica si lloverá al día siguiente (Yes/No) | Categórica Nominal | - | Salida |"
   ]
  },
  {
   "cell_type": "markdown",
   "id": "82e6db5a",
   "metadata": {},
   "source": [
    "**Analicemos las features numéricas**"
   ]
  },
  {
   "cell_type": "code",
   "execution_count": null,
   "id": "edf1d1e3",
   "metadata": {},
   "outputs": [],
   "source": [
    "fig = australian_weather_data.hist(xlabelsize=12, ylabelsize=12,figsize=(22,10))\n",
    "[x.title.set_size(14) for x in fig.ravel()]\n",
    "plt.tight_layout()\n",
    "plt.show()"
   ]
  },
  {
   "cell_type": "code",
   "execution_count": null,
   "id": "0cdbb2e0",
   "metadata": {},
   "outputs": [],
   "source": [
    "def plot_features_distribution(df,cols_to_plot):\n",
    "  _nrows = len(cols_to_plot)\n",
    "  _ncols = len(cols_to_plot[0])\n",
    "  fig, axes = plt.subplots(nrows=_nrows, ncols=_ncols, figsize=(14, 6))\n",
    "  for x, rows in enumerate(cols_to_plot):\n",
    "    for y, column in enumerate(rows):\n",
    "      df[column].plot.density(color='green', ax=axes[x,y])\n",
    "      axes[x,y].set_title(column.title())"
   ]
  },
  {
   "cell_type": "code",
   "execution_count": null,
   "id": "7e7c1ee1",
   "metadata": {},
   "outputs": [],
   "source": []
  },
  {
   "cell_type": "markdown",
   "id": "15ea94b3",
   "metadata": {},
   "source": [
    "Viendo el histograma de las features numéricas, podemos inferir que:\n",
    "- Las features **(Rainfall, Evaporation, Cloud9am, Cloud3pm)** tienen una distribución que **no** es normal.\n",
    "- Las features restantes tienen una distribución normal pero no simétrica, con diferentes oblicuidades.\n",
    "\n",
    "Proponemos entonces:\n",
    "- Aplicar transformaciones a las features para normalizarlas.\n",
    "- Estandarizarlas para escalarlas y que aquellas de mayor magnitud no dominen a las de menor magnitud."
   ]
  },
  {
   "cell_type": "markdown",
   "id": "77d8d8ba",
   "metadata": {},
   "source": [
    "**Analicemos las features categóricas**"
   ]
  },
  {
   "cell_type": "markdown",
   "id": "19f94d7a",
   "metadata": {},
   "source": [
    "Vamos a ver la cardinalidad de las variables categóricas"
   ]
  },
  {
   "cell_type": "code",
   "execution_count": null,
   "id": "bdddfa1b",
   "metadata": {},
   "outputs": [],
   "source": [
    "australian_weather_data.Location.unique()"
   ]
  },
  {
   "cell_type": "code",
   "execution_count": null,
   "id": "4db3d068",
   "metadata": {},
   "outputs": [],
   "source": [
    "australian_weather_data.WindGustDir.unique()"
   ]
  },
  {
   "cell_type": "code",
   "execution_count": null,
   "id": "0651a76f",
   "metadata": {},
   "outputs": [],
   "source": [
    "australian_weather_data.WindDir9am.unique()"
   ]
  },
  {
   "cell_type": "code",
   "execution_count": null,
   "id": "952d8e8b",
   "metadata": {},
   "outputs": [],
   "source": [
    "australian_weather_data.WindDir3pm.unique()"
   ]
  },
  {
   "cell_type": "code",
   "execution_count": null,
   "id": "a2cf6d8d",
   "metadata": {},
   "outputs": [],
   "source": [
    "australian_weather_data.RainToday.unique()"
   ]
  },
  {
   "cell_type": "code",
   "execution_count": null,
   "id": "8810ae7a",
   "metadata": {},
   "outputs": [],
   "source": [
    "# Resumimos\n",
    "cat_features = ['Location', 'WindGustDir', 'WindDir9am', 'WindDir3pm', 'RainToday']\n",
    "\n",
    "for col in cat_features:\n",
    "    print('Feature: ', col, 'Number of categories: ', australian_weather_data[col].nunique())"
   ]
  },
  {
   "cell_type": "code",
   "execution_count": null,
   "id": "6212c2d6",
   "metadata": {},
   "outputs": [],
   "source": [
    "rows = len(australian_weather_data)\n",
    "\n",
    "fig,axes = plt.subplots(len(cat_features),1,figsize=(18,len(cat_features)*4))\n",
    "for i,col in enumerate(cat_features):\n",
    "    frequencies = pd.Series(australian_weather_data[col].value_counts() / rows)\n",
    "    frequencies.sort_values(ascending=False).plot.bar(ax=axes[i])\n",
    "    axes[i].set_xlabel(col)\n",
    "    axes[i].axhline(y=0.05, color='red')\n",
    "    axes[i].set_ylabel('Percentage of observations')\n",
    "    axes[i].set_xlabel('Category')\n",
    "plt.show()"
   ]
  },
  {
   "cell_type": "markdown",
   "id": "9f7b1473",
   "metadata": {},
   "source": [
    "Vemos que los datos están bastante balanceados. Tanto las features de ubicación geográfica como de dirección del viento presentan una distribución muy parecida a una uniforme."
   ]
  },
  {
   "cell_type": "markdown",
   "id": "0c7206f0",
   "metadata": {},
   "source": [
    "**Analicemos las variables compuestas**"
   ]
  },
  {
   "cell_type": "code",
   "execution_count": null,
   "id": "fe1f9e6d",
   "metadata": {},
   "outputs": [],
   "source": [
    "australian_weather_data.Date.nunique()"
   ]
  },
  {
   "cell_type": "code",
   "execution_count": null,
   "id": "48fc911b",
   "metadata": {},
   "outputs": [],
   "source": [
    "australian_weather_data.groupby(['Date'])['Date'].count()"
   ]
  },
  {
   "cell_type": "markdown",
   "id": "0cd61e29",
   "metadata": {},
   "source": [
    "Tenemos más de 3000 valores distintos para la variable compuesta fecha/hora. Una opción es transformar esta variable **mapeándola con la estación del año (Otoño, Invierno, Primavera, Verano)**."
   ]
  },
  {
   "cell_type": "markdown",
   "id": "5e5d5550",
   "metadata": {},
   "source": [
    "**Analicemos el (des)balance de la variable target**"
   ]
  },
  {
   "cell_type": "code",
   "execution_count": null,
   "id": "199f0183",
   "metadata": {},
   "outputs": [],
   "source": [
    "australian_weather_data.RainTomorrow.unique()"
   ]
  },
  {
   "cell_type": "code",
   "execution_count": null,
   "id": "9088280c",
   "metadata": {},
   "outputs": [],
   "source": [
    "australian_weather_data_reduced = australian_weather_data.iloc[:,1:]\n",
    "correlation_matrix = australian_weather_data_reduced.corr(method = 'spearman').round(2)\n",
    "fig,axes = plt.subplots(1,1,figsize=(20,8))\n",
    "sns.heatmap(data=correlation_matrix, annot=True,ax=axes)"
   ]
  },
  {
   "cell_type": "markdown",
   "id": "d9a08af3",
   "metadata": {},
   "source": [
    "# ---- #\n",
    "# Empieza lo de Juani #"
   ]
  },
  {
   "cell_type": "markdown",
   "id": "ac0fd626",
   "metadata": {},
   "source": [
    "**Analicemos los valores nulos**"
   ]
  },
  {
   "cell_type": "code",
   "execution_count": null,
   "id": "c1e806d7",
   "metadata": {
    "scrolled": true
   },
   "outputs": [],
   "source": [
    "# Hago una copia de los datos con nombre más corto para escribir menos\n",
    "df = australian_weather_data.copy()\n",
    "\n",
    "# Porcentaje de valores nulos por columna\n",
    "{df.columns[i]:round(sum(df.iloc[:,i].isnull())/len(df)*100,2) for i in range(len(df.columns))}"
   ]
  },
  {
   "cell_type": "code",
   "execution_count": null,
   "id": "cb46bffb",
   "metadata": {},
   "outputs": [],
   "source": [
    "# Primero intento imputar valores nulos de RainTomorrow con el valor de RainToday si es posible.\n",
    "# Se trata de valores nulos del tipo Missing Not At Random\n",
    "# Se probó bajar los nulos de RainToday con Rainfall y no redujo el porcentaje de nulos.\n",
    "\n",
    "df['Date'] = pd.to_datetime(df['Date'])\n",
    "df['RainTomorrow'].fillna(df['RainToday'].shift(1), inplace=True)"
   ]
  },
  {
   "cell_type": "code",
   "execution_count": null,
   "id": "37c9fa3a",
   "metadata": {},
   "outputs": [],
   "source": [
    "# El porcentaje de nulos en RainTomorrow bajó a menos del 1%.\n",
    "\n",
    "{df.columns[i]:round(sum(df.iloc[:,i].isnull())/len(df)*100,2) for i in range(len(df.columns))}"
   ]
  },
  {
   "cell_type": "code",
   "execution_count": null,
   "id": "9be313c4",
   "metadata": {
    "scrolled": true
   },
   "outputs": [],
   "source": [
    "# Observemos la relación entre los datos faltantes con el equipamiento de la estación metereológica\n",
    "\n",
    "# Porcentaje de nulos para cada variable en cada estación.\n",
    "aux = list(df.columns)\n",
    "aux.remove('Location')\n",
    "# Primera mitad de las variables\n",
    "porcentaje_nulos = df.groupby('Location')[aux].apply(lambda x: round(x.isnull().sum() / len(x),4) * 100).reset_index()\n",
    "porcentaje_nulos.iloc[:,:int(len(aux)/2)]"
   ]
  },
  {
   "cell_type": "code",
   "execution_count": null,
   "id": "df25d1f1",
   "metadata": {
    "scrolled": true
   },
   "outputs": [],
   "source": [
    "# Variables restantes\n",
    "df.groupby('Location')[aux[int(len(aux)/2):]].apply(lambda x: round(x.isnull().sum() / len(x),4) * 100).reset_index()"
   ]
  },
  {
   "cell_type": "markdown",
   "id": "56a12fbf",
   "metadata": {},
   "source": [
    "Hay varias estaciones con valores faltantes para variables completas. Esto se explica por la ausencia de equipamiento de medición en condiciones operativas.\n",
    "\n",
    "A modo de ejemplo, la ausencia de valores de evaporación seguramente corresponde a la falta de un tanque clase A:\n",
    "https://www.hyquestsolutions.com.au/fileadmin/user_upload/Class_A_Evaporation_Pan_en.pdf"
   ]
  },
  {
   "cell_type": "code",
   "execution_count": null,
   "id": "7760bd5d",
   "metadata": {},
   "outputs": [],
   "source": [
    "# Se prueba eliminar los lugares con equipamiento faltante y evaluar nuevamente el porcentaje de nulos\n",
    "\n",
    "porcentaje_nulos[~(porcentaje_nulos == 100).any(axis=1)].reset_index()"
   ]
  },
  {
   "cell_type": "code",
   "execution_count": null,
   "id": "6ec66bde",
   "metadata": {
    "scrolled": true
   },
   "outputs": [],
   "source": [
    "# A modo orientativo se calcula un promedio. Formalmente se deberían pesar los promedios de nulos, pero la\n",
    "# cantidad de observaciones son similares para cada estación y el número valor obtenido solo es orientativo.\n",
    "\n",
    "porcentaje_nulos[~(porcentaje_nulos == 100).any(axis=1)].drop(['Location', 'Date'], axis=1).mean()"
   ]
  },
  {
   "cell_type": "markdown",
   "id": "bbe65592",
   "metadata": {},
   "source": [
    "Tras eliminar (momentáneamente) las locaciones con equipamiento faltante, se observa que las variables 'Evaporation', 'Sunshine', 'Cloud9am' y 'Cloud3pm' aún mantienen una elevada proporción de nulos. Por ello se propone eliminarlas completamente. En algunas locaciones también se observa la falta de equipamiento para medir presión y viento, pero dado el bajo porcentaje de nulos totales que tienen esas variables se propone imputar los valores faltantes según una metodología acorde."
   ]
  },
  {
   "cell_type": "code",
   "execution_count": null,
   "id": "79ed43f6",
   "metadata": {},
   "outputs": [],
   "source": [
    "# Elimino las variables mencionadas\n",
    "\n",
    "df.drop(['Evaporation', 'Sunshine', 'Cloud9am', 'Cloud3pm'], axis=1, inplace=True)\n",
    "df.columns"
   ]
  },
  {
   "cell_type": "code",
   "execution_count": null,
   "id": "66ef3728",
   "metadata": {},
   "outputs": [],
   "source": [
    "# los lugares y valores faltantes son\n",
    "\n",
    "porcentaje_nulos = porcentaje_nulos.drop(['Evaporation', 'Sunshine', 'Cloud9am', 'Cloud3pm'], axis=1)\n",
    "porcentaje_nulos[(porcentaje_nulos == 100).any(axis=1)][['Location','WindGustDir', 'WindGustSpeed', 'Pressure9am', 'Pressure3pm']]"
   ]
  },
  {
   "cell_type": "code",
   "execution_count": null,
   "id": "13f38cb5",
   "metadata": {
    "scrolled": true
   },
   "outputs": [],
   "source": [
    "# Recordemos el porcentaje de nulos totales\n",
    "\n",
    "{df.columns[i]:round(sum(df.iloc[:,i].isnull())/len(df)*100,2) for i in range(len(df.columns))}"
   ]
  },
  {
   "cell_type": "markdown",
   "id": "6eb59c41",
   "metadata": {},
   "source": [
    "En las estaciones con los valores de viento y presión faltante, el faltante es del tipo *Missing Not At Random* (MNAR). En las restantes estaciones esas mismas variables tienen nulos completamente aleatorios *Missing Completely At Random* (MCAR). Se tratará cada caso en particular.\n",
    "\n",
    "Entre las variables a imputar valores faltantes, se encuentran las variables categóricas referentes al viento. Debido a que los datos faltantes son aproximadamente el 7%, se propone imputar los valores faltantes con una nueva categoría \"FALTANTE\" sin que eso genere una categoría poco frecuente.\n",
    "\n",
    "Para la variable de intensidad máxima de viento, el porcentaje de faltantes se encuentra en el entorno del 7%, valor mayor al 5% límite recomendado para la imputación por media o moda. Se propone tratar la totalidad de los valores nulos como *Missing At Random* (MAR), crear una columna indicando valor faltante e imputar con la mediana debido a que las distribución tienen una marcada oblicuidad.\n",
    "\n",
    "Para las variables de presión, el porcentaje total de nulos es de aproximadamente un 10% y la cantidad de nulos no aleatorios se encuentra en el entorno del 1%. Se propone agregar una columna indicando los datos faltante y tratar la totalidad de los valores nulos como MAR e imputar con la mediana debido a que las distribuciones tienen una marcada oblicuidad."
   ]
  },
  {
   "cell_type": "code",
   "execution_count": null,
   "id": "c9159370",
   "metadata": {},
   "outputs": [],
   "source": [
    "# Reemplazo los valores categóricos mencionados\n",
    "df['WindGustDir'].fillna('FALTANTE', inplace=True)\n",
    "df['WindDir9am'].fillna('FALTANTE', inplace=True)\n",
    "df['WindDir3pm'].fillna('FALTANTE', inplace=True)\n",
    "{df.columns[i]:round(sum(df.iloc[:,i].isnull())/len(df)*100,2) for i in range(len(df.columns))}"
   ]
  },
  {
   "cell_type": "code",
   "execution_count": null,
   "id": "dd58faa7",
   "metadata": {},
   "outputs": [],
   "source": [
    "# Imputo con la mediana las variables con marcada oblicuidad.\n",
    "from sklearn.impute import SimpleImputer\n",
    "\n",
    "X = df[['WindGustSpeed', 'WindSpeed9am', 'WindSpeed3pm']]\n",
    "\n",
    "imputer = SimpleImputer(strategy='median',add_indicator=True)\n",
    "X_imputed_median = imputer.fit_transform(X)\n",
    "\n",
    "# Nuevo dataframe con X e indicadores de valores imputados\n",
    "X_cols = ['WindGustSpeed', 'WindSpeed9am', 'WindSpeed3pm']\n",
    "X_cols = X_cols+[\"%s_imputed\" % x for x in X_cols]\n",
    "X_imputed_median = pd.DataFrame(X_imputed_median,columns=X_cols)\n",
    "\n",
    "assert(not np.any(X_imputed_median.isnull().sum()>0))\n",
    "X_imputed_median.head()"
   ]
  },
  {
   "cell_type": "code",
   "execution_count": null,
   "id": "36c9bcfe",
   "metadata": {},
   "outputs": [],
   "source": [
    "# Imputo con la media el resto de las variables numéricas\n",
    "X_cols = ['MinTemp', 'MaxTemp', 'Rainfall', 'Humidity9am', 'Humidity3pm', 'Pressure9am', \n",
    "          'Pressure3pm', 'Temp9am', 'Temp3pm']\n",
    "X = df[X_cols]\n",
    "\n",
    "imputer = SimpleImputer(strategy='mean',add_indicator=True)\n",
    "X_imputed_mean = imputer.fit_transform(X)\n",
    "\n",
    "# Nuevo dataframe con X e indicadores de valores imputados\n",
    "X_cols = X_cols + [\"%s_imputed\" % x for x in X_cols]\n",
    "X_imputed_mean = pd.DataFrame(X_imputed_mean,columns=X_cols)\n",
    "\n",
    "assert(not np.any(X_imputed_mean.isnull().sum()>0))\n",
    "X_imputed_mean.head()"
   ]
  },
  {
   "cell_type": "code",
   "execution_count": null,
   "id": "9a832696",
   "metadata": {
    "scrolled": true
   },
   "outputs": [],
   "source": [
    "# Unificación de valores\n",
    "df_imputed = pd.merge(X_imputed_mean, X_imputed_median, left_index=True, right_index=True)\n",
    "df_imputed[['Location', 'Date', 'RainToday', 'RainTomorrow', 'WindGustDir','WindDir9am','WindDir3pm']] = df[['Location', 'Date', 'RainToday', 'RainTomorrow', 'WindGustDir','WindDir9am','WindDir3pm']]\n",
    "df_imputed.info()"
   ]
  },
  {
   "cell_type": "code",
   "execution_count": null,
   "id": "652b8904",
   "metadata": {},
   "outputs": [],
   "source": [
    "# Codificación del viento\n",
    "\n",
    "# Ángulos en radianes\n",
    "direcciones_rad = {'E':0, 'ENE':np.pi*1/8, 'NE':np.pi*2/8, 'NNE':np.pi*3/8, \n",
    "                   'N':np.pi*4/8, 'NNW':np.pi*5/8, 'NW':np.pi*6/8, 'WNW':np.pi*7/8, \n",
    "                   'W':np.pi*8/8, 'WSW':np.pi*9/8, 'SW':np.pi*10/8, 'SSW':np.pi*11/8, \n",
    "                   'S':np.pi*12/8, 'SSE':np.pi*13/8, 'SE':np.pi*14/8, 'ESE':np.pi*15/8}\n",
    "direcciones_rad"
   ]
  },
  {
   "cell_type": "code",
   "execution_count": null,
   "id": "4893c755",
   "metadata": {},
   "outputs": [],
   "source": [
    "df2 = df.dropna()\n",
    "df2['angulo_WindGustDir'] = df2['WindGustDir'].map(lambda x: direcciones_rad.get(x, None))\n",
    "df2['x_WindGustDir'] = df2['angulo_WindGustDir'].map(lambda x: np.cos(x))\n",
    "df2['y_WindGustDir'] = df2['angulo_WindGustDir'].map(lambda y: np.cos(y))\n",
    "df2['y_WindGustDir']"
   ]
  },
  {
   "cell_type": "code",
   "execution_count": null,
   "id": "def245a2",
   "metadata": {},
   "outputs": [],
   "source": [
    "locaciones = df['Location'].unique()\n",
    "locaciones"
   ]
  },
  {
   "cell_type": "code",
   "execution_count": null,
   "id": "fbd56236",
   "metadata": {},
   "outputs": [],
   "source": [
    "import re\n",
    "\n",
    "def separate_names(name):\n",
    "    separated_name = re.sub(r\"([a-z])([A-Z])\", r\"\\1 \\2\", name)\n",
    "    return separated_name\n",
    "\n",
    "# Lista de nombres\n",
    "names = locaciones\n",
    "\n",
    "# Aplicamos la función a cada nombre en la lista\n",
    "separated_names = [separate_names(name) for name in names]\n",
    "\n",
    "# Mostramos los nombres separados\n",
    "for original, separated in zip(names, separated_names):\n",
    "    print(f\"Original: {original} - Separado: {separated}\")"
   ]
  },
  {
   "cell_type": "code",
   "execution_count": null,
   "id": "9c780849",
   "metadata": {},
   "outputs": [],
   "source": [
    "separated_names[24] = 'Nhill'"
   ]
  },
  {
   "cell_type": "code",
   "execution_count": null,
   "id": "c42aaf4a",
   "metadata": {},
   "outputs": [],
   "source": [
    "import requests\n",
    "\n",
    "def get_city_coordinates(city_name, username):\n",
    "    base_url = \"http://api.geonames.org/searchJSON\"\n",
    "    params = {\n",
    "        \"q\": city_name,\n",
    "        \"country\": \"AU\",  \n",
    "        \"maxRows\": 1,     \n",
    "        \"username\": username  \n",
    "    }\n",
    "\n",
    "    response = requests.get(base_url, params=params)\n",
    "    data = response.json()\n",
    "\n",
    "    if \"geonames\" in data and data[\"geonames\"]:\n",
    "        city_data = data[\"geonames\"][0]\n",
    "        latitude = city_data[\"lat\"]\n",
    "        longitude = city_data[\"lng\"]\n",
    "        return latitude, longitude\n",
    "    else:\n",
    "        return None, None\n",
    "\n",
    "\n",
    "username = \"juanimunar\"\n",
    "cities = separated_names\n",
    "\n",
    "coords = []\n",
    "for city in cities:\n",
    "    lat, lng = get_city_coordinates(city, username)\n",
    "    coords.append((lat, lng))"
   ]
  },
  {
   "cell_type": "code",
   "execution_count": null,
   "id": "4acbb2e7",
   "metadata": {},
   "outputs": [],
   "source": [
    "df_loc = pd.DataFrame(locaciones)\n",
    "df_loc['lat-lon'] = coords\n",
    "df_loc"
   ]
  },
  {
   "cell_type": "code",
   "execution_count": null,
   "id": "1e80690e",
   "metadata": {},
   "outputs": [],
   "source": [
    "df_loc.to_csv('coordenadas.csv', index=False)"
   ]
  },
  {
   "cell_type": "code",
   "execution_count": null,
   "id": "e874dcc8",
   "metadata": {},
   "outputs": [],
   "source": []
  }
 ],
 "metadata": {
  "kernelspec": {
   "display_name": "Python 3 (ipykernel)",
   "language": "python",
   "name": "python3"
  },
  "language_info": {
   "codemirror_mode": {
    "name": "ipython",
    "version": 3
   },
   "file_extension": ".py",
   "mimetype": "text/x-python",
   "name": "python",
   "nbconvert_exporter": "python",
   "pygments_lexer": "ipython3",
   "version": "3.11.3"
  }
 },
 "nbformat": 4,
 "nbformat_minor": 5
}
