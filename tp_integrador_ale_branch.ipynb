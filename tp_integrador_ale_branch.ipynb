{
 "cells": [
  {
   "cell_type": "markdown",
   "id": "109952c9",
   "metadata": {},
   "source": [
    "# Trabajo Integrador"
   ]
  },
  {
   "cell_type": "markdown",
   "id": "7622c60a",
   "metadata": {},
   "source": [
    "## 1. Selección del dataset\n",
    "Elegimos el **dataset 1**, que contiene datos sobre distintas estaciones meteorológicas de Australia."
   ]
  },
  {
   "cell_type": "code",
   "execution_count": 1,
   "id": "a73980e2",
   "metadata": {},
   "outputs": [],
   "source": [
    "import pandas as pd\n",
    "import numpy as np\n",
    "import seaborn as sns\n",
    "import matplotlib.pyplot as plt\n",
    "from sklearn.model_selection import train_test_split"
   ]
  },
  {
   "cell_type": "code",
   "execution_count": 30,
   "id": "cd8e039d",
   "metadata": {},
   "outputs": [],
   "source": [
    "# Seteo esta opcion en True para evitar que me exprese los valores numericos con notacion cientifica\n",
    "np.set_printoptions(suppress=True)"
   ]
  },
  {
   "cell_type": "code",
   "execution_count": 31,
   "id": "f106c1fb",
   "metadata": {},
   "outputs": [],
   "source": [
    "australian_weather_data = pd.read_csv('./data/weatherAUS.csv',encoding='utf-8',sep=',',skipinitialspace=True)"
   ]
  },
  {
   "cell_type": "code",
   "execution_count": 32,
   "id": "56f76c42",
   "metadata": {},
   "outputs": [
    {
     "data": {
      "text/html": [
       "<div>\n",
       "<style scoped>\n",
       "    .dataframe tbody tr th:only-of-type {\n",
       "        vertical-align: middle;\n",
       "    }\n",
       "\n",
       "    .dataframe tbody tr th {\n",
       "        vertical-align: top;\n",
       "    }\n",
       "\n",
       "    .dataframe thead th {\n",
       "        text-align: right;\n",
       "    }\n",
       "</style>\n",
       "<table border=\"1\" class=\"dataframe\">\n",
       "  <thead>\n",
       "    <tr style=\"text-align: right;\">\n",
       "      <th></th>\n",
       "      <th>Date</th>\n",
       "      <th>Location</th>\n",
       "      <th>MinTemp</th>\n",
       "      <th>MaxTemp</th>\n",
       "      <th>Rainfall</th>\n",
       "      <th>Evaporation</th>\n",
       "      <th>Sunshine</th>\n",
       "      <th>WindGustDir</th>\n",
       "      <th>WindGustSpeed</th>\n",
       "      <th>WindDir9am</th>\n",
       "      <th>...</th>\n",
       "      <th>Humidity9am</th>\n",
       "      <th>Humidity3pm</th>\n",
       "      <th>Pressure9am</th>\n",
       "      <th>Pressure3pm</th>\n",
       "      <th>Cloud9am</th>\n",
       "      <th>Cloud3pm</th>\n",
       "      <th>Temp9am</th>\n",
       "      <th>Temp3pm</th>\n",
       "      <th>RainToday</th>\n",
       "      <th>RainTomorrow</th>\n",
       "    </tr>\n",
       "  </thead>\n",
       "  <tbody>\n",
       "    <tr>\n",
       "      <th>0</th>\n",
       "      <td>2008-12-01</td>\n",
       "      <td>Albury</td>\n",
       "      <td>13.4</td>\n",
       "      <td>22.9</td>\n",
       "      <td>0.6</td>\n",
       "      <td>NaN</td>\n",
       "      <td>NaN</td>\n",
       "      <td>W</td>\n",
       "      <td>44.0</td>\n",
       "      <td>W</td>\n",
       "      <td>...</td>\n",
       "      <td>71.0</td>\n",
       "      <td>22.0</td>\n",
       "      <td>1007.7</td>\n",
       "      <td>1007.1</td>\n",
       "      <td>8.0</td>\n",
       "      <td>NaN</td>\n",
       "      <td>16.9</td>\n",
       "      <td>21.8</td>\n",
       "      <td>No</td>\n",
       "      <td>No</td>\n",
       "    </tr>\n",
       "    <tr>\n",
       "      <th>1</th>\n",
       "      <td>2008-12-02</td>\n",
       "      <td>Albury</td>\n",
       "      <td>7.4</td>\n",
       "      <td>25.1</td>\n",
       "      <td>0.0</td>\n",
       "      <td>NaN</td>\n",
       "      <td>NaN</td>\n",
       "      <td>WNW</td>\n",
       "      <td>44.0</td>\n",
       "      <td>NNW</td>\n",
       "      <td>...</td>\n",
       "      <td>44.0</td>\n",
       "      <td>25.0</td>\n",
       "      <td>1010.6</td>\n",
       "      <td>1007.8</td>\n",
       "      <td>NaN</td>\n",
       "      <td>NaN</td>\n",
       "      <td>17.2</td>\n",
       "      <td>24.3</td>\n",
       "      <td>No</td>\n",
       "      <td>No</td>\n",
       "    </tr>\n",
       "    <tr>\n",
       "      <th>2</th>\n",
       "      <td>2008-12-03</td>\n",
       "      <td>Albury</td>\n",
       "      <td>12.9</td>\n",
       "      <td>25.7</td>\n",
       "      <td>0.0</td>\n",
       "      <td>NaN</td>\n",
       "      <td>NaN</td>\n",
       "      <td>WSW</td>\n",
       "      <td>46.0</td>\n",
       "      <td>W</td>\n",
       "      <td>...</td>\n",
       "      <td>38.0</td>\n",
       "      <td>30.0</td>\n",
       "      <td>1007.6</td>\n",
       "      <td>1008.7</td>\n",
       "      <td>NaN</td>\n",
       "      <td>2.0</td>\n",
       "      <td>21.0</td>\n",
       "      <td>23.2</td>\n",
       "      <td>No</td>\n",
       "      <td>No</td>\n",
       "    </tr>\n",
       "    <tr>\n",
       "      <th>3</th>\n",
       "      <td>2008-12-04</td>\n",
       "      <td>Albury</td>\n",
       "      <td>9.2</td>\n",
       "      <td>28.0</td>\n",
       "      <td>0.0</td>\n",
       "      <td>NaN</td>\n",
       "      <td>NaN</td>\n",
       "      <td>NE</td>\n",
       "      <td>24.0</td>\n",
       "      <td>SE</td>\n",
       "      <td>...</td>\n",
       "      <td>45.0</td>\n",
       "      <td>16.0</td>\n",
       "      <td>1017.6</td>\n",
       "      <td>1012.8</td>\n",
       "      <td>NaN</td>\n",
       "      <td>NaN</td>\n",
       "      <td>18.1</td>\n",
       "      <td>26.5</td>\n",
       "      <td>No</td>\n",
       "      <td>No</td>\n",
       "    </tr>\n",
       "    <tr>\n",
       "      <th>4</th>\n",
       "      <td>2008-12-05</td>\n",
       "      <td>Albury</td>\n",
       "      <td>17.5</td>\n",
       "      <td>32.3</td>\n",
       "      <td>1.0</td>\n",
       "      <td>NaN</td>\n",
       "      <td>NaN</td>\n",
       "      <td>W</td>\n",
       "      <td>41.0</td>\n",
       "      <td>ENE</td>\n",
       "      <td>...</td>\n",
       "      <td>82.0</td>\n",
       "      <td>33.0</td>\n",
       "      <td>1010.8</td>\n",
       "      <td>1006.0</td>\n",
       "      <td>7.0</td>\n",
       "      <td>8.0</td>\n",
       "      <td>17.8</td>\n",
       "      <td>29.7</td>\n",
       "      <td>No</td>\n",
       "      <td>No</td>\n",
       "    </tr>\n",
       "    <tr>\n",
       "      <th>...</th>\n",
       "      <td>...</td>\n",
       "      <td>...</td>\n",
       "      <td>...</td>\n",
       "      <td>...</td>\n",
       "      <td>...</td>\n",
       "      <td>...</td>\n",
       "      <td>...</td>\n",
       "      <td>...</td>\n",
       "      <td>...</td>\n",
       "      <td>...</td>\n",
       "      <td>...</td>\n",
       "      <td>...</td>\n",
       "      <td>...</td>\n",
       "      <td>...</td>\n",
       "      <td>...</td>\n",
       "      <td>...</td>\n",
       "      <td>...</td>\n",
       "      <td>...</td>\n",
       "      <td>...</td>\n",
       "      <td>...</td>\n",
       "      <td>...</td>\n",
       "    </tr>\n",
       "    <tr>\n",
       "      <th>145455</th>\n",
       "      <td>2017-06-21</td>\n",
       "      <td>Uluru</td>\n",
       "      <td>2.8</td>\n",
       "      <td>23.4</td>\n",
       "      <td>0.0</td>\n",
       "      <td>NaN</td>\n",
       "      <td>NaN</td>\n",
       "      <td>E</td>\n",
       "      <td>31.0</td>\n",
       "      <td>SE</td>\n",
       "      <td>...</td>\n",
       "      <td>51.0</td>\n",
       "      <td>24.0</td>\n",
       "      <td>1024.6</td>\n",
       "      <td>1020.3</td>\n",
       "      <td>NaN</td>\n",
       "      <td>NaN</td>\n",
       "      <td>10.1</td>\n",
       "      <td>22.4</td>\n",
       "      <td>No</td>\n",
       "      <td>No</td>\n",
       "    </tr>\n",
       "    <tr>\n",
       "      <th>145456</th>\n",
       "      <td>2017-06-22</td>\n",
       "      <td>Uluru</td>\n",
       "      <td>3.6</td>\n",
       "      <td>25.3</td>\n",
       "      <td>0.0</td>\n",
       "      <td>NaN</td>\n",
       "      <td>NaN</td>\n",
       "      <td>NNW</td>\n",
       "      <td>22.0</td>\n",
       "      <td>SE</td>\n",
       "      <td>...</td>\n",
       "      <td>56.0</td>\n",
       "      <td>21.0</td>\n",
       "      <td>1023.5</td>\n",
       "      <td>1019.1</td>\n",
       "      <td>NaN</td>\n",
       "      <td>NaN</td>\n",
       "      <td>10.9</td>\n",
       "      <td>24.5</td>\n",
       "      <td>No</td>\n",
       "      <td>No</td>\n",
       "    </tr>\n",
       "    <tr>\n",
       "      <th>145457</th>\n",
       "      <td>2017-06-23</td>\n",
       "      <td>Uluru</td>\n",
       "      <td>5.4</td>\n",
       "      <td>26.9</td>\n",
       "      <td>0.0</td>\n",
       "      <td>NaN</td>\n",
       "      <td>NaN</td>\n",
       "      <td>N</td>\n",
       "      <td>37.0</td>\n",
       "      <td>SE</td>\n",
       "      <td>...</td>\n",
       "      <td>53.0</td>\n",
       "      <td>24.0</td>\n",
       "      <td>1021.0</td>\n",
       "      <td>1016.8</td>\n",
       "      <td>NaN</td>\n",
       "      <td>NaN</td>\n",
       "      <td>12.5</td>\n",
       "      <td>26.1</td>\n",
       "      <td>No</td>\n",
       "      <td>No</td>\n",
       "    </tr>\n",
       "    <tr>\n",
       "      <th>145458</th>\n",
       "      <td>2017-06-24</td>\n",
       "      <td>Uluru</td>\n",
       "      <td>7.8</td>\n",
       "      <td>27.0</td>\n",
       "      <td>0.0</td>\n",
       "      <td>NaN</td>\n",
       "      <td>NaN</td>\n",
       "      <td>SE</td>\n",
       "      <td>28.0</td>\n",
       "      <td>SSE</td>\n",
       "      <td>...</td>\n",
       "      <td>51.0</td>\n",
       "      <td>24.0</td>\n",
       "      <td>1019.4</td>\n",
       "      <td>1016.5</td>\n",
       "      <td>3.0</td>\n",
       "      <td>2.0</td>\n",
       "      <td>15.1</td>\n",
       "      <td>26.0</td>\n",
       "      <td>No</td>\n",
       "      <td>No</td>\n",
       "    </tr>\n",
       "    <tr>\n",
       "      <th>145459</th>\n",
       "      <td>2017-06-25</td>\n",
       "      <td>Uluru</td>\n",
       "      <td>14.9</td>\n",
       "      <td>NaN</td>\n",
       "      <td>0.0</td>\n",
       "      <td>NaN</td>\n",
       "      <td>NaN</td>\n",
       "      <td>NaN</td>\n",
       "      <td>NaN</td>\n",
       "      <td>ESE</td>\n",
       "      <td>...</td>\n",
       "      <td>62.0</td>\n",
       "      <td>36.0</td>\n",
       "      <td>1020.2</td>\n",
       "      <td>1017.9</td>\n",
       "      <td>8.0</td>\n",
       "      <td>8.0</td>\n",
       "      <td>15.0</td>\n",
       "      <td>20.9</td>\n",
       "      <td>No</td>\n",
       "      <td>NaN</td>\n",
       "    </tr>\n",
       "  </tbody>\n",
       "</table>\n",
       "<p>145460 rows × 23 columns</p>\n",
       "</div>"
      ],
      "text/plain": [
       "              Date Location  MinTemp  MaxTemp  Rainfall  Evaporation  \\\n",
       "0       2008-12-01   Albury     13.4     22.9       0.6          NaN   \n",
       "1       2008-12-02   Albury      7.4     25.1       0.0          NaN   \n",
       "2       2008-12-03   Albury     12.9     25.7       0.0          NaN   \n",
       "3       2008-12-04   Albury      9.2     28.0       0.0          NaN   \n",
       "4       2008-12-05   Albury     17.5     32.3       1.0          NaN   \n",
       "...            ...      ...      ...      ...       ...          ...   \n",
       "145455  2017-06-21    Uluru      2.8     23.4       0.0          NaN   \n",
       "145456  2017-06-22    Uluru      3.6     25.3       0.0          NaN   \n",
       "145457  2017-06-23    Uluru      5.4     26.9       0.0          NaN   \n",
       "145458  2017-06-24    Uluru      7.8     27.0       0.0          NaN   \n",
       "145459  2017-06-25    Uluru     14.9      NaN       0.0          NaN   \n",
       "\n",
       "        Sunshine WindGustDir  WindGustSpeed WindDir9am  ... Humidity9am  \\\n",
       "0            NaN           W           44.0          W  ...        71.0   \n",
       "1            NaN         WNW           44.0        NNW  ...        44.0   \n",
       "2            NaN         WSW           46.0          W  ...        38.0   \n",
       "3            NaN          NE           24.0         SE  ...        45.0   \n",
       "4            NaN           W           41.0        ENE  ...        82.0   \n",
       "...          ...         ...            ...        ...  ...         ...   \n",
       "145455       NaN           E           31.0         SE  ...        51.0   \n",
       "145456       NaN         NNW           22.0         SE  ...        56.0   \n",
       "145457       NaN           N           37.0         SE  ...        53.0   \n",
       "145458       NaN          SE           28.0        SSE  ...        51.0   \n",
       "145459       NaN         NaN            NaN        ESE  ...        62.0   \n",
       "\n",
       "        Humidity3pm  Pressure9am  Pressure3pm  Cloud9am  Cloud3pm  Temp9am  \\\n",
       "0              22.0       1007.7       1007.1       8.0       NaN     16.9   \n",
       "1              25.0       1010.6       1007.8       NaN       NaN     17.2   \n",
       "2              30.0       1007.6       1008.7       NaN       2.0     21.0   \n",
       "3              16.0       1017.6       1012.8       NaN       NaN     18.1   \n",
       "4              33.0       1010.8       1006.0       7.0       8.0     17.8   \n",
       "...             ...          ...          ...       ...       ...      ...   \n",
       "145455         24.0       1024.6       1020.3       NaN       NaN     10.1   \n",
       "145456         21.0       1023.5       1019.1       NaN       NaN     10.9   \n",
       "145457         24.0       1021.0       1016.8       NaN       NaN     12.5   \n",
       "145458         24.0       1019.4       1016.5       3.0       2.0     15.1   \n",
       "145459         36.0       1020.2       1017.9       8.0       8.0     15.0   \n",
       "\n",
       "        Temp3pm  RainToday  RainTomorrow  \n",
       "0          21.8         No            No  \n",
       "1          24.3         No            No  \n",
       "2          23.2         No            No  \n",
       "3          26.5         No            No  \n",
       "4          29.7         No            No  \n",
       "...         ...        ...           ...  \n",
       "145455     22.4         No            No  \n",
       "145456     24.5         No            No  \n",
       "145457     26.1         No            No  \n",
       "145458     26.0         No            No  \n",
       "145459     20.9         No           NaN  \n",
       "\n",
       "[145460 rows x 23 columns]"
      ]
     },
     "execution_count": 32,
     "metadata": {},
     "output_type": "execute_result"
    }
   ],
   "source": [
    "australian_weather_data"
   ]
  },
  {
   "cell_type": "markdown",
   "id": "4c92c8cb",
   "metadata": {},
   "source": [
    "## 2. Análisis exploratorio inicial\n",
    "\n",
    "- Visualizar las primeras filas.\n",
    "- Realizar un resumen de 5 números.\n",
    "- Identificar los tipos de datos: categórico, ordinal, etc. Responder para cada variable su tipo y si es informativa para un problema de clasificación (por ejemplo si se trata de un código, como una matrícula, o un nombre propio).\n",
    "- Identificar las variables de entrada y de salida del problema.\n",
    "- Variables de entrada:\n",
    "    - Realizar los siguientes análisis por tipo de variable:\n",
    "        - Numéricas: Obtener conclusiones acerca de la distribución de los datos.\n",
    "        - Categóricas: Obtener conclusiones acerca de la cardinalidad, representación de cada categoría, etc.\n",
    "        - Compuestas: ¿Pueden tratarse para utilizarse en el problema a resolver?\n",
    "- Variables de salida (en caso de aplicar):\n",
    "    - ¿Están balanceadas las clases?\n",
    "    - (en caso de aplicar) ¿Qué técnicas consideraría para codificar la variable de salida? Justifique."
   ]
  },
  {
   "cell_type": "markdown",
   "id": "e76a4bee",
   "metadata": {},
   "source": [
    "**Visualizamos las primeras filas**"
   ]
  },
  {
   "cell_type": "code",
   "execution_count": 33,
   "id": "525da896",
   "metadata": {},
   "outputs": [
    {
     "data": {
      "text/html": [
       "<div>\n",
       "<style scoped>\n",
       "    .dataframe tbody tr th:only-of-type {\n",
       "        vertical-align: middle;\n",
       "    }\n",
       "\n",
       "    .dataframe tbody tr th {\n",
       "        vertical-align: top;\n",
       "    }\n",
       "\n",
       "    .dataframe thead th {\n",
       "        text-align: right;\n",
       "    }\n",
       "</style>\n",
       "<table border=\"1\" class=\"dataframe\">\n",
       "  <thead>\n",
       "    <tr style=\"text-align: right;\">\n",
       "      <th></th>\n",
       "      <th>Date</th>\n",
       "      <th>Location</th>\n",
       "      <th>MinTemp</th>\n",
       "      <th>MaxTemp</th>\n",
       "      <th>Rainfall</th>\n",
       "      <th>Evaporation</th>\n",
       "      <th>Sunshine</th>\n",
       "      <th>WindGustDir</th>\n",
       "      <th>WindGustSpeed</th>\n",
       "      <th>WindDir9am</th>\n",
       "      <th>...</th>\n",
       "      <th>Humidity9am</th>\n",
       "      <th>Humidity3pm</th>\n",
       "      <th>Pressure9am</th>\n",
       "      <th>Pressure3pm</th>\n",
       "      <th>Cloud9am</th>\n",
       "      <th>Cloud3pm</th>\n",
       "      <th>Temp9am</th>\n",
       "      <th>Temp3pm</th>\n",
       "      <th>RainToday</th>\n",
       "      <th>RainTomorrow</th>\n",
       "    </tr>\n",
       "  </thead>\n",
       "  <tbody>\n",
       "    <tr>\n",
       "      <th>0</th>\n",
       "      <td>2008-12-01</td>\n",
       "      <td>Albury</td>\n",
       "      <td>13.4</td>\n",
       "      <td>22.9</td>\n",
       "      <td>0.6</td>\n",
       "      <td>NaN</td>\n",
       "      <td>NaN</td>\n",
       "      <td>W</td>\n",
       "      <td>44.0</td>\n",
       "      <td>W</td>\n",
       "      <td>...</td>\n",
       "      <td>71.0</td>\n",
       "      <td>22.0</td>\n",
       "      <td>1007.7</td>\n",
       "      <td>1007.1</td>\n",
       "      <td>8.0</td>\n",
       "      <td>NaN</td>\n",
       "      <td>16.9</td>\n",
       "      <td>21.8</td>\n",
       "      <td>No</td>\n",
       "      <td>No</td>\n",
       "    </tr>\n",
       "    <tr>\n",
       "      <th>1</th>\n",
       "      <td>2008-12-02</td>\n",
       "      <td>Albury</td>\n",
       "      <td>7.4</td>\n",
       "      <td>25.1</td>\n",
       "      <td>0.0</td>\n",
       "      <td>NaN</td>\n",
       "      <td>NaN</td>\n",
       "      <td>WNW</td>\n",
       "      <td>44.0</td>\n",
       "      <td>NNW</td>\n",
       "      <td>...</td>\n",
       "      <td>44.0</td>\n",
       "      <td>25.0</td>\n",
       "      <td>1010.6</td>\n",
       "      <td>1007.8</td>\n",
       "      <td>NaN</td>\n",
       "      <td>NaN</td>\n",
       "      <td>17.2</td>\n",
       "      <td>24.3</td>\n",
       "      <td>No</td>\n",
       "      <td>No</td>\n",
       "    </tr>\n",
       "    <tr>\n",
       "      <th>2</th>\n",
       "      <td>2008-12-03</td>\n",
       "      <td>Albury</td>\n",
       "      <td>12.9</td>\n",
       "      <td>25.7</td>\n",
       "      <td>0.0</td>\n",
       "      <td>NaN</td>\n",
       "      <td>NaN</td>\n",
       "      <td>WSW</td>\n",
       "      <td>46.0</td>\n",
       "      <td>W</td>\n",
       "      <td>...</td>\n",
       "      <td>38.0</td>\n",
       "      <td>30.0</td>\n",
       "      <td>1007.6</td>\n",
       "      <td>1008.7</td>\n",
       "      <td>NaN</td>\n",
       "      <td>2.0</td>\n",
       "      <td>21.0</td>\n",
       "      <td>23.2</td>\n",
       "      <td>No</td>\n",
       "      <td>No</td>\n",
       "    </tr>\n",
       "    <tr>\n",
       "      <th>3</th>\n",
       "      <td>2008-12-04</td>\n",
       "      <td>Albury</td>\n",
       "      <td>9.2</td>\n",
       "      <td>28.0</td>\n",
       "      <td>0.0</td>\n",
       "      <td>NaN</td>\n",
       "      <td>NaN</td>\n",
       "      <td>NE</td>\n",
       "      <td>24.0</td>\n",
       "      <td>SE</td>\n",
       "      <td>...</td>\n",
       "      <td>45.0</td>\n",
       "      <td>16.0</td>\n",
       "      <td>1017.6</td>\n",
       "      <td>1012.8</td>\n",
       "      <td>NaN</td>\n",
       "      <td>NaN</td>\n",
       "      <td>18.1</td>\n",
       "      <td>26.5</td>\n",
       "      <td>No</td>\n",
       "      <td>No</td>\n",
       "    </tr>\n",
       "    <tr>\n",
       "      <th>4</th>\n",
       "      <td>2008-12-05</td>\n",
       "      <td>Albury</td>\n",
       "      <td>17.5</td>\n",
       "      <td>32.3</td>\n",
       "      <td>1.0</td>\n",
       "      <td>NaN</td>\n",
       "      <td>NaN</td>\n",
       "      <td>W</td>\n",
       "      <td>41.0</td>\n",
       "      <td>ENE</td>\n",
       "      <td>...</td>\n",
       "      <td>82.0</td>\n",
       "      <td>33.0</td>\n",
       "      <td>1010.8</td>\n",
       "      <td>1006.0</td>\n",
       "      <td>7.0</td>\n",
       "      <td>8.0</td>\n",
       "      <td>17.8</td>\n",
       "      <td>29.7</td>\n",
       "      <td>No</td>\n",
       "      <td>No</td>\n",
       "    </tr>\n",
       "  </tbody>\n",
       "</table>\n",
       "<p>5 rows × 23 columns</p>\n",
       "</div>"
      ],
      "text/plain": [
       "         Date Location  MinTemp  MaxTemp  Rainfall  Evaporation  Sunshine  \\\n",
       "0  2008-12-01   Albury     13.4     22.9       0.6          NaN       NaN   \n",
       "1  2008-12-02   Albury      7.4     25.1       0.0          NaN       NaN   \n",
       "2  2008-12-03   Albury     12.9     25.7       0.0          NaN       NaN   \n",
       "3  2008-12-04   Albury      9.2     28.0       0.0          NaN       NaN   \n",
       "4  2008-12-05   Albury     17.5     32.3       1.0          NaN       NaN   \n",
       "\n",
       "  WindGustDir  WindGustSpeed WindDir9am  ... Humidity9am  Humidity3pm  \\\n",
       "0           W           44.0          W  ...        71.0         22.0   \n",
       "1         WNW           44.0        NNW  ...        44.0         25.0   \n",
       "2         WSW           46.0          W  ...        38.0         30.0   \n",
       "3          NE           24.0         SE  ...        45.0         16.0   \n",
       "4           W           41.0        ENE  ...        82.0         33.0   \n",
       "\n",
       "   Pressure9am  Pressure3pm  Cloud9am  Cloud3pm  Temp9am  Temp3pm  RainToday  \\\n",
       "0       1007.7       1007.1       8.0       NaN     16.9     21.8         No   \n",
       "1       1010.6       1007.8       NaN       NaN     17.2     24.3         No   \n",
       "2       1007.6       1008.7       NaN       2.0     21.0     23.2         No   \n",
       "3       1017.6       1012.8       NaN       NaN     18.1     26.5         No   \n",
       "4       1010.8       1006.0       7.0       8.0     17.8     29.7         No   \n",
       "\n",
       "   RainTomorrow  \n",
       "0            No  \n",
       "1            No  \n",
       "2            No  \n",
       "3            No  \n",
       "4            No  \n",
       "\n",
       "[5 rows x 23 columns]"
      ]
     },
     "execution_count": 33,
     "metadata": {},
     "output_type": "execute_result"
    }
   ],
   "source": [
    "australian_weather_data.head(5)"
   ]
  },
  {
   "cell_type": "markdown",
   "id": "bdd547bf",
   "metadata": {},
   "source": [
    "**Identificamos los tipos de datos**"
   ]
  },
  {
   "cell_type": "code",
   "execution_count": 34,
   "id": "95f68927",
   "metadata": {},
   "outputs": [
    {
     "name": "stdout",
     "output_type": "stream",
     "text": [
      "<class 'pandas.core.frame.DataFrame'>\n",
      "RangeIndex: 145460 entries, 0 to 145459\n",
      "Data columns (total 23 columns):\n",
      " #   Column         Non-Null Count   Dtype  \n",
      "---  ------         --------------   -----  \n",
      " 0   Date           145460 non-null  object \n",
      " 1   Location       145460 non-null  object \n",
      " 2   MinTemp        143975 non-null  float64\n",
      " 3   MaxTemp        144199 non-null  float64\n",
      " 4   Rainfall       142199 non-null  float64\n",
      " 5   Evaporation    82670 non-null   float64\n",
      " 6   Sunshine       75625 non-null   float64\n",
      " 7   WindGustDir    135134 non-null  object \n",
      " 8   WindGustSpeed  135197 non-null  float64\n",
      " 9   WindDir9am     134894 non-null  object \n",
      " 10  WindDir3pm     141232 non-null  object \n",
      " 11  WindSpeed9am   143693 non-null  float64\n",
      " 12  WindSpeed3pm   142398 non-null  float64\n",
      " 13  Humidity9am    142806 non-null  float64\n",
      " 14  Humidity3pm    140953 non-null  float64\n",
      " 15  Pressure9am    130395 non-null  float64\n",
      " 16  Pressure3pm    130432 non-null  float64\n",
      " 17  Cloud9am       89572 non-null   float64\n",
      " 18  Cloud3pm       86102 non-null   float64\n",
      " 19  Temp9am        143693 non-null  float64\n",
      " 20  Temp3pm        141851 non-null  float64\n",
      " 21  RainToday      142199 non-null  object \n",
      " 22  RainTomorrow   142193 non-null  object \n",
      "dtypes: float64(16), object(7)\n",
      "memory usage: 25.5+ MB\n"
     ]
    }
   ],
   "source": [
    "australian_weather_data.info()"
   ]
  },
  {
   "cell_type": "code",
   "execution_count": 35,
   "id": "54eba95e",
   "metadata": {},
   "outputs": [],
   "source": [
    "# Veamos una descripcion de las variables numericas con la ayuda de pandas"
   ]
  },
  {
   "cell_type": "code",
   "execution_count": 36,
   "id": "04ca0aaa",
   "metadata": {},
   "outputs": [
    {
     "data": {
      "text/html": [
       "<div>\n",
       "<style scoped>\n",
       "    .dataframe tbody tr th:only-of-type {\n",
       "        vertical-align: middle;\n",
       "    }\n",
       "\n",
       "    .dataframe tbody tr th {\n",
       "        vertical-align: top;\n",
       "    }\n",
       "\n",
       "    .dataframe thead th {\n",
       "        text-align: right;\n",
       "    }\n",
       "</style>\n",
       "<table border=\"1\" class=\"dataframe\">\n",
       "  <thead>\n",
       "    <tr style=\"text-align: right;\">\n",
       "      <th></th>\n",
       "      <th>MinTemp</th>\n",
       "      <th>MaxTemp</th>\n",
       "      <th>Rainfall</th>\n",
       "      <th>Evaporation</th>\n",
       "      <th>Sunshine</th>\n",
       "      <th>WindGustSpeed</th>\n",
       "      <th>WindSpeed9am</th>\n",
       "      <th>WindSpeed3pm</th>\n",
       "      <th>Humidity9am</th>\n",
       "      <th>Humidity3pm</th>\n",
       "      <th>Pressure9am</th>\n",
       "      <th>Pressure3pm</th>\n",
       "      <th>Cloud9am</th>\n",
       "      <th>Cloud3pm</th>\n",
       "      <th>Temp9am</th>\n",
       "      <th>Temp3pm</th>\n",
       "    </tr>\n",
       "  </thead>\n",
       "  <tbody>\n",
       "    <tr>\n",
       "      <th>count</th>\n",
       "      <td>143975.000000</td>\n",
       "      <td>144199.000000</td>\n",
       "      <td>142199.000000</td>\n",
       "      <td>82670.000000</td>\n",
       "      <td>75625.000000</td>\n",
       "      <td>135197.000000</td>\n",
       "      <td>143693.000000</td>\n",
       "      <td>142398.000000</td>\n",
       "      <td>142806.000000</td>\n",
       "      <td>140953.000000</td>\n",
       "      <td>130395.00000</td>\n",
       "      <td>130432.000000</td>\n",
       "      <td>89572.000000</td>\n",
       "      <td>86102.000000</td>\n",
       "      <td>143693.000000</td>\n",
       "      <td>141851.00000</td>\n",
       "    </tr>\n",
       "    <tr>\n",
       "      <th>mean</th>\n",
       "      <td>12.194034</td>\n",
       "      <td>23.221348</td>\n",
       "      <td>2.360918</td>\n",
       "      <td>5.468232</td>\n",
       "      <td>7.611178</td>\n",
       "      <td>40.035230</td>\n",
       "      <td>14.043426</td>\n",
       "      <td>18.662657</td>\n",
       "      <td>68.880831</td>\n",
       "      <td>51.539116</td>\n",
       "      <td>1017.64994</td>\n",
       "      <td>1015.255889</td>\n",
       "      <td>4.447461</td>\n",
       "      <td>4.509930</td>\n",
       "      <td>16.990631</td>\n",
       "      <td>21.68339</td>\n",
       "    </tr>\n",
       "    <tr>\n",
       "      <th>std</th>\n",
       "      <td>6.398495</td>\n",
       "      <td>7.119049</td>\n",
       "      <td>8.478060</td>\n",
       "      <td>4.193704</td>\n",
       "      <td>3.785483</td>\n",
       "      <td>13.607062</td>\n",
       "      <td>8.915375</td>\n",
       "      <td>8.809800</td>\n",
       "      <td>19.029164</td>\n",
       "      <td>20.795902</td>\n",
       "      <td>7.10653</td>\n",
       "      <td>7.037414</td>\n",
       "      <td>2.887159</td>\n",
       "      <td>2.720357</td>\n",
       "      <td>6.488753</td>\n",
       "      <td>6.93665</td>\n",
       "    </tr>\n",
       "    <tr>\n",
       "      <th>min</th>\n",
       "      <td>-8.500000</td>\n",
       "      <td>-4.800000</td>\n",
       "      <td>0.000000</td>\n",
       "      <td>0.000000</td>\n",
       "      <td>0.000000</td>\n",
       "      <td>6.000000</td>\n",
       "      <td>0.000000</td>\n",
       "      <td>0.000000</td>\n",
       "      <td>0.000000</td>\n",
       "      <td>0.000000</td>\n",
       "      <td>980.50000</td>\n",
       "      <td>977.100000</td>\n",
       "      <td>0.000000</td>\n",
       "      <td>0.000000</td>\n",
       "      <td>-7.200000</td>\n",
       "      <td>-5.40000</td>\n",
       "    </tr>\n",
       "    <tr>\n",
       "      <th>25%</th>\n",
       "      <td>7.600000</td>\n",
       "      <td>17.900000</td>\n",
       "      <td>0.000000</td>\n",
       "      <td>2.600000</td>\n",
       "      <td>4.800000</td>\n",
       "      <td>31.000000</td>\n",
       "      <td>7.000000</td>\n",
       "      <td>13.000000</td>\n",
       "      <td>57.000000</td>\n",
       "      <td>37.000000</td>\n",
       "      <td>1012.90000</td>\n",
       "      <td>1010.400000</td>\n",
       "      <td>1.000000</td>\n",
       "      <td>2.000000</td>\n",
       "      <td>12.300000</td>\n",
       "      <td>16.60000</td>\n",
       "    </tr>\n",
       "    <tr>\n",
       "      <th>50%</th>\n",
       "      <td>12.000000</td>\n",
       "      <td>22.600000</td>\n",
       "      <td>0.000000</td>\n",
       "      <td>4.800000</td>\n",
       "      <td>8.400000</td>\n",
       "      <td>39.000000</td>\n",
       "      <td>13.000000</td>\n",
       "      <td>19.000000</td>\n",
       "      <td>70.000000</td>\n",
       "      <td>52.000000</td>\n",
       "      <td>1017.60000</td>\n",
       "      <td>1015.200000</td>\n",
       "      <td>5.000000</td>\n",
       "      <td>5.000000</td>\n",
       "      <td>16.700000</td>\n",
       "      <td>21.10000</td>\n",
       "    </tr>\n",
       "    <tr>\n",
       "      <th>75%</th>\n",
       "      <td>16.900000</td>\n",
       "      <td>28.200000</td>\n",
       "      <td>0.800000</td>\n",
       "      <td>7.400000</td>\n",
       "      <td>10.600000</td>\n",
       "      <td>48.000000</td>\n",
       "      <td>19.000000</td>\n",
       "      <td>24.000000</td>\n",
       "      <td>83.000000</td>\n",
       "      <td>66.000000</td>\n",
       "      <td>1022.40000</td>\n",
       "      <td>1020.000000</td>\n",
       "      <td>7.000000</td>\n",
       "      <td>7.000000</td>\n",
       "      <td>21.600000</td>\n",
       "      <td>26.40000</td>\n",
       "    </tr>\n",
       "    <tr>\n",
       "      <th>max</th>\n",
       "      <td>33.900000</td>\n",
       "      <td>48.100000</td>\n",
       "      <td>371.000000</td>\n",
       "      <td>145.000000</td>\n",
       "      <td>14.500000</td>\n",
       "      <td>135.000000</td>\n",
       "      <td>130.000000</td>\n",
       "      <td>87.000000</td>\n",
       "      <td>100.000000</td>\n",
       "      <td>100.000000</td>\n",
       "      <td>1041.00000</td>\n",
       "      <td>1039.600000</td>\n",
       "      <td>9.000000</td>\n",
       "      <td>9.000000</td>\n",
       "      <td>40.200000</td>\n",
       "      <td>46.70000</td>\n",
       "    </tr>\n",
       "  </tbody>\n",
       "</table>\n",
       "</div>"
      ],
      "text/plain": [
       "             MinTemp        MaxTemp       Rainfall   Evaporation  \\\n",
       "count  143975.000000  144199.000000  142199.000000  82670.000000   \n",
       "mean       12.194034      23.221348       2.360918      5.468232   \n",
       "std         6.398495       7.119049       8.478060      4.193704   \n",
       "min        -8.500000      -4.800000       0.000000      0.000000   \n",
       "25%         7.600000      17.900000       0.000000      2.600000   \n",
       "50%        12.000000      22.600000       0.000000      4.800000   \n",
       "75%        16.900000      28.200000       0.800000      7.400000   \n",
       "max        33.900000      48.100000     371.000000    145.000000   \n",
       "\n",
       "           Sunshine  WindGustSpeed   WindSpeed9am   WindSpeed3pm  \\\n",
       "count  75625.000000  135197.000000  143693.000000  142398.000000   \n",
       "mean       7.611178      40.035230      14.043426      18.662657   \n",
       "std        3.785483      13.607062       8.915375       8.809800   \n",
       "min        0.000000       6.000000       0.000000       0.000000   \n",
       "25%        4.800000      31.000000       7.000000      13.000000   \n",
       "50%        8.400000      39.000000      13.000000      19.000000   \n",
       "75%       10.600000      48.000000      19.000000      24.000000   \n",
       "max       14.500000     135.000000     130.000000      87.000000   \n",
       "\n",
       "         Humidity9am    Humidity3pm   Pressure9am    Pressure3pm  \\\n",
       "count  142806.000000  140953.000000  130395.00000  130432.000000   \n",
       "mean       68.880831      51.539116    1017.64994    1015.255889   \n",
       "std        19.029164      20.795902       7.10653       7.037414   \n",
       "min         0.000000       0.000000     980.50000     977.100000   \n",
       "25%        57.000000      37.000000    1012.90000    1010.400000   \n",
       "50%        70.000000      52.000000    1017.60000    1015.200000   \n",
       "75%        83.000000      66.000000    1022.40000    1020.000000   \n",
       "max       100.000000     100.000000    1041.00000    1039.600000   \n",
       "\n",
       "           Cloud9am      Cloud3pm        Temp9am       Temp3pm  \n",
       "count  89572.000000  86102.000000  143693.000000  141851.00000  \n",
       "mean       4.447461      4.509930      16.990631      21.68339  \n",
       "std        2.887159      2.720357       6.488753       6.93665  \n",
       "min        0.000000      0.000000      -7.200000      -5.40000  \n",
       "25%        1.000000      2.000000      12.300000      16.60000  \n",
       "50%        5.000000      5.000000      16.700000      21.10000  \n",
       "75%        7.000000      7.000000      21.600000      26.40000  \n",
       "max        9.000000      9.000000      40.200000      46.70000  "
      ]
     },
     "execution_count": 36,
     "metadata": {},
     "output_type": "execute_result"
    }
   ],
   "source": [
    "australian_weather_data.describe()"
   ]
  },
  {
   "cell_type": "markdown",
   "id": "aed6962d",
   "metadata": {},
   "source": [
    "| Variable | Descripción | Tipo | Es informativa | Entrada / Salida | \n",
    "| -------- | ---------- | ---- | -------------- | ---------------- |\n",
    "| Date     | Fecha de la medición | Fecha/Hora | Si | Entrada |\n",
    "| Location | Ubicación geográfica | Categorica Nominal | Si | Entrada |\n",
    "| MinTemp | Temperatura mínima registrada (celsius) | Numérica Continua | Si | Entrada |\n",
    "| MaxTemp | Temperatura máxima registrada (celsius) |Numérica Continua | Si | Entrada |\n",
    "| Rainfall | Precipitaciones registradas (mm) | Numérica Continua | Si | Entrada |\n",
    "| Evaporation | Evaporación registrada (mm) | Numérica Continua | Si | Entrada |\n",
    "| Sunshine | Cantidad de horas de sol | Numérica Continua | Si | Entrada |\n",
    "| WindGustDir | Dirección del viento más fuerte registrado durante el día | Categórica Nominal | Si | Entrada |\n",
    "| WindGustSpeed | Velocidad del viento más fuerte registrada durante el día (km/h) | Numérica continua | Si | Entrada |\n",
    "| WindDir9am | Dirección del viento registrada a las 9 am | Categórica Nominal | Si | Entrada |\n",
    "| WindDir3pm | Dirección del viento registrada a las 3 pm | Categórica Nominal | Si | Entrada |\n",
    "| WindSpeed9am | Velocidad del viento registrada a las 9 am (km/h) | Numérica continua | Si | Entrada |\n",
    "| WindSpeed3pm | Velocidad del viento registrada a las 3 pm (km/h) | Numérica continua | Si | Entrada |\n",
    "| Humidity9am | Humedad registrada a las 9 am (%) | Numérica continua | Si | Entrada |\n",
    "| Humidity3pm | Humedad registrada a las 3 pm (%) | Numérica continua | Si | Entrada |\n",
    "| Pressure9am | Presión atmosférica registrada a las 9 am (hpa) | Numérica continua | Si | Entrada |\n",
    "| Pressure3pm | Presión atmosférica registrada a las 3 pm (hpa) | Numérica continua | Si | Entrada |\n",
    "| Cloud9am | Fracción del cielo oscurecido por las nubesa las 9 am | Numérica continua | Si | Entrada |\n",
    "| Cloud3pm | Fracción del cielo oscurecido por las nubesa las 3 pm | Numérica continua | Si | Entrada |\n",
    "| Temp9am | Temperatura registrada a las 9 am (celsius) | Numérica continua | Si | Entrada |\n",
    "| Temp3pm | Temperatura registrada a las 3 pm (celsius) | Numérica continua | Si | Entrada |\n",
    "| RainToday | Flag que indica si llovio durante el día (Yes/No) | Categorica Nominal | Si | Entrada |\n",
    "| RainTomorrow | Flag que indica si lloverá al día siguiente (Yes/No) | Categórica Nominal | - | Salida |"
   ]
  },
  {
   "cell_type": "markdown",
   "id": "82e6db5a",
   "metadata": {},
   "source": [
    "**Analicemos las features numéricas**"
   ]
  },
  {
   "cell_type": "code",
   "execution_count": 37,
   "id": "edf1d1e3",
   "metadata": {},
   "outputs": [
    {
     "data": {
      "image/png": "[encoded data removed]",
      "text/plain": [
       "<Figure size 2200x1000 with 16 Axes>"
      ]
     },
     "metadata": {},
     "output_type": "display_data"
    }
   ],
   "source": [
    "fig = australian_weather_data.hist(xlabelsize=12, ylabelsize=12,figsize=(22,10))\n",
    "[x.title.set_size(14) for x in fig.ravel()]\n",
    "plt.tight_layout()\n",
    "plt.show()"
   ]
  },
  {
   "cell_type": "markdown",
   "id": "15ea94b3",
   "metadata": {},
   "source": [
    "Viendo el histograma de las features numéricas, podemos inferir que:\n",
    "- Las features **(Rainfall, Evaporation, Cloud9am, Cloud3pm)** tienen una distribución que **no** es normal.\n",
    "- Las features restantes tienen una distribución normal pero no simétrica, con diferentes oblicuidades.\n",
    "\n",
    "Proponemos entonces:\n",
    "- Aplicar transformaciones a las features para normalizarlas.\n",
    "- Estandarizarlas para escalarlas y que aquellas de mayor magnitud no dominen a las de menor magnitud."
   ]
  },
  {
   "cell_type": "markdown",
   "id": "77d8d8ba",
   "metadata": {},
   "source": [
    "**Analicemos las features categóricas**"
   ]
  },
  {
   "cell_type": "markdown",
   "id": "19f94d7a",
   "metadata": {},
   "source": [
    "Vamos a ver la cardinalidad de las variables categóricas"
   ]
  },
  {
   "cell_type": "code",
   "execution_count": 38,
   "id": "bdddfa1b",
   "metadata": {},
   "outputs": [
    {
     "data": {
      "text/plain": [
       "array(['Albury', 'BadgerysCreek', 'Cobar', 'CoffsHarbour', 'Moree',\n",
       "       'Newcastle', 'NorahHead', 'NorfolkIsland', 'Penrith', 'Richmond',\n",
       "       'Sydney', 'SydneyAirport', 'WaggaWagga', 'Williamtown',\n",
       "       'Wollongong', 'Canberra', 'Tuggeranong', 'MountGinini', 'Ballarat',\n",
       "       'Bendigo', 'Sale', 'MelbourneAirport', 'Melbourne', 'Mildura',\n",
       "       'Nhil', 'Portland', 'Watsonia', 'Dartmoor', 'Brisbane', 'Cairns',\n",
       "       'GoldCoast', 'Townsville', 'Adelaide', 'MountGambier', 'Nuriootpa',\n",
       "       'Woomera', 'Albany', 'Witchcliffe', 'PearceRAAF', 'PerthAirport',\n",
       "       'Perth', 'SalmonGums', 'Walpole', 'Hobart', 'Launceston',\n",
       "       'AliceSprings', 'Darwin', 'Katherine', 'Uluru'], dtype=object)"
      ]
     },
     "execution_count": 38,
     "metadata": {},
     "output_type": "execute_result"
    }
   ],
   "source": [
    "australian_weather_data.Location.unique()"
   ]
  },
  {
   "cell_type": "code",
   "execution_count": 39,
   "id": "4db3d068",
   "metadata": {},
   "outputs": [
    {
     "data": {
      "text/plain": [
       "array(['W', 'WNW', 'WSW', 'NE', 'NNW', 'N', 'NNE', 'SW', nan, 'ENE',\n",
       "       'SSE', 'S', 'NW', 'SE', 'ESE', 'E', 'SSW'], dtype=object)"
      ]
     },
     "execution_count": 39,
     "metadata": {},
     "output_type": "execute_result"
    }
   ],
   "source": [
    "australian_weather_data.WindGustDir.unique()"
   ]
  },
  {
   "cell_type": "code",
   "execution_count": 40,
   "id": "0651a76f",
   "metadata": {},
   "outputs": [
    {
     "data": {
      "text/plain": [
       "array(['W', 'NNW', 'SE', 'ENE', 'SW', 'SSE', 'S', 'NE', nan, 'SSW', 'N',\n",
       "       'WSW', 'ESE', 'E', 'NW', 'WNW', 'NNE'], dtype=object)"
      ]
     },
     "execution_count": 40,
     "metadata": {},
     "output_type": "execute_result"
    }
   ],
   "source": [
    "australian_weather_data.WindDir9am.unique()"
   ]
  },
  {
   "cell_type": "code",
   "execution_count": 41,
   "id": "952d8e8b",
   "metadata": {},
   "outputs": [
    {
     "data": {
      "text/plain": [
       "array(['WNW', 'WSW', 'E', 'NW', 'W', 'SSE', 'ESE', 'ENE', 'NNW', 'SSW',\n",
       "       'SW', 'SE', 'N', 'S', 'NNE', nan, 'NE'], dtype=object)"
      ]
     },
     "execution_count": 41,
     "metadata": {},
     "output_type": "execute_result"
    }
   ],
   "source": [
    "australian_weather_data.WindDir3pm.unique()"
   ]
  },
  {
   "cell_type": "code",
   "execution_count": 42,
   "id": "a2cf6d8d",
   "metadata": {},
   "outputs": [
    {
     "data": {
      "text/plain": [
       "array(['No', 'Yes', nan], dtype=object)"
      ]
     },
     "execution_count": 42,
     "metadata": {},
     "output_type": "execute_result"
    }
   ],
   "source": [
    "australian_weather_data.RainToday.unique()"
   ]
  },
  {
   "cell_type": "code",
   "execution_count": 43,
   "id": "8810ae7a",
   "metadata": {},
   "outputs": [
    {
     "name": "stdout",
     "output_type": "stream",
     "text": [
      "Feature:  Location Number of categories:  49\n",
      "Feature:  WindGustDir Number of categories:  16\n",
      "Feature:  WindDir9am Number of categories:  16\n",
      "Feature:  WindDir3pm Number of categories:  16\n",
      "Feature:  RainToday Number of categories:  2\n"
     ]
    }
   ],
   "source": [
    "# Resumimos\n",
    "cat_features = ['Location', 'WindGustDir', 'WindDir9am', 'WindDir3pm', 'RainToday']\n",
    "\n",
    "for col in cat_features:\n",
    "    print('Feature: ', col, 'Number of categories: ', australian_weather_data[col].nunique())"
   ]
  },
  {
   "cell_type": "code",
   "execution_count": 44,
   "id": "6212c2d6",
   "metadata": {},
   "outputs": [
    {
     "data": {
      "image/png": "[encoded data removed]",
      "text/plain": [
       "<Figure size 1800x2000 with 5 Axes>"
      ]
     },
     "metadata": {},
     "output_type": "display_data"
    }
   ],
   "source": [
    "rows = len(australian_weather_data)\n",
    "\n",
    "fig,axes = plt.subplots(len(cat_features),1,figsize=(18,len(cat_features)*4))\n",
    "for i,col in enumerate(cat_features):\n",
    "    frequencies = pd.Series(australian_weather_data[col].value_counts() / rows)\n",
    "    frequencies.sort_values(ascending=False).plot.bar(ax=axes[i])\n",
    "    axes[i].set_xlabel(col)\n",
    "    axes[i].axhline(y=0.05, color='red')\n",
    "    axes[i].set_ylabel('Percentage of observations')\n",
    "    axes[i].set_xlabel('Category')\n",
    "plt.show()"
   ]
  },
  {
   "cell_type": "markdown",
   "id": "9f7b1473",
   "metadata": {},
   "source": [
    "Vemos que los datos están bastante balanceados. Tanto las features de ubicación geográfica como de dirección del viento presentan una distribución muy parecida a una uniforme."
   ]
  },
  {
   "cell_type": "markdown",
   "id": "0c7206f0",
   "metadata": {},
   "source": [
    "**Analicemos las variables compuestas**"
   ]
  },
  {
   "cell_type": "code",
   "execution_count": 45,
   "id": "fe1f9e6d",
   "metadata": {},
   "outputs": [
    {
     "data": {
      "text/plain": [
       "3436"
      ]
     },
     "execution_count": 45,
     "metadata": {},
     "output_type": "execute_result"
    }
   ],
   "source": [
    "australian_weather_data.Date.nunique()"
   ]
  },
  {
   "cell_type": "code",
   "execution_count": 46,
   "id": "48fc911b",
   "metadata": {},
   "outputs": [
    {
     "data": {
      "text/plain": [
       "Date\n",
       "2007-11-01     1\n",
       "2007-11-02     1\n",
       "2007-11-03     1\n",
       "2007-11-04     1\n",
       "2007-11-05     1\n",
       "              ..\n",
       "2017-06-21    49\n",
       "2017-06-22    49\n",
       "2017-06-23    49\n",
       "2017-06-24    49\n",
       "2017-06-25    48\n",
       "Name: Date, Length: 3436, dtype: int64"
      ]
     },
     "execution_count": 46,
     "metadata": {},
     "output_type": "execute_result"
    }
   ],
   "source": [
    "australian_weather_data.groupby(['Date'])['Date'].count()"
   ]
  },
  {
   "cell_type": "markdown",
   "id": "0cd61e29",
   "metadata": {},
   "source": [
    "Tenemos más de 3000 valores distintos para la variable compuesta fecha/hora. Una opción es transformar esta variable **mapeándola con la estación del año (Otoño, Invierno, Primavera, Verano)**."
   ]
  },
  {
   "cell_type": "markdown",
   "id": "5e5d5550",
   "metadata": {},
   "source": [
    "**Analicemos el (des)balance de la variable target**"
   ]
  },
  {
   "cell_type": "code",
   "execution_count": 47,
   "id": "199f0183",
   "metadata": {},
   "outputs": [
    {
     "data": {
      "text/plain": [
       "array(['No', 'Yes', nan], dtype=object)"
      ]
     },
     "execution_count": 47,
     "metadata": {},
     "output_type": "execute_result"
    }
   ],
   "source": [
    "australian_weather_data.RainTomorrow.unique()"
   ]
  },
  {
   "cell_type": "code",
   "execution_count": 48,
   "id": "9088280c",
   "metadata": {},
   "outputs": [],
   "source": [
    "\n",
    "#australian_weather_data_reduced = australian_weather_data_encoded.iloc[:,1:]\n",
    "#correlation_matrix = australian_weather_data_reduced.corr(method = 'spearman').round(2)\n",
    "#fig,axes = plt.subplots(1,1,figsize=(20,8))\n",
    "#sns.heatmap(data=correlation_matrix, annot=True,ax=axes)"
   ]
  },
  {
   "cell_type": "markdown",
   "id": "b4b6669a",
   "metadata": {},
   "source": [
    "## **Preparación de los datos: codificación de las variables categóricas**\n",
    "\n",
    "En función del estudio inicial de las variables que se hizo en la sección anterior, elegir una\n",
    "técnica de codificación para cada variable. Cuando lo considere apropiado, ensayar distintas técnicas\n",
    "y comparar los resultados, teniendo en cuenta el tipo de clasificador a utilizar. Nota: para tipos de datos compuestos o estructurados, considerar la obtención de variables de tipo\n",
    "numérico/categórico."
   ]
  },
  {
   "cell_type": "code",
   "execution_count": 129,
   "id": "eb472327",
   "metadata": {},
   "outputs": [],
   "source": [
    "from sklearn.model_selection import train_test_split\n",
    "from sklearn.linear_model import LogisticRegression\n",
    "from sklearn.metrics import accuracy_score\n",
    "from sklearn.preprocessing import OneHotEncoder, OrdinalEncoder"
   ]
  },
  {
   "cell_type": "code",
   "execution_count": 184,
   "id": "db7e3f0e",
   "metadata": {},
   "outputs": [
    {
     "data": {
      "text/plain": [
       "((101822, 5), (43638, 5))"
      ]
     },
     "execution_count": 184,
     "metadata": {},
     "output_type": "execute_result"
    }
   ],
   "source": [
    "X_train, X_test, y_train, y_test = train_test_split(\n",
    "    australian_weather_data[['Location','WindGustDir' , 'WindDir9am', 'WindDir3pm', 'RainToday']], \n",
    "    australian_weather_data['RainTomorrow'],  \n",
    "    test_size=0.3,\n",
    "    random_state=42)\n",
    "\n",
    "X_train.shape, X_test.shape\n"
   ]
  },
  {
   "cell_type": "markdown",
   "id": "c59131d1",
   "metadata": {},
   "source": [
    "* _Variables: 'RainToday'_\n",
    "\n",
    "Es una variable con dos categorias posibles.\n",
    "\n",
    "Técnicas de encoding propuestas:\n",
    "1. One Hot encoding k-1\n",
    "\n",
    "\n",
    "* _Variables: 'WindGustDir' , 'WindDir9am', 'WindDir3pm'_\n",
    "\n",
    "Esta variable tiene una cardinalidad baja (16 categorias). Las categorías tienen un orden dado que indican la dirección del viento. \n",
    "\n",
    "Técnicas de encoding propuestas:\n",
    "1. Ordinal encoding\n",
    "\n",
    "* _Variable: 'Location'_\n",
    "Esta variable tiene una cardinalidad alta (49 categorias). Por lo tanto, lo ideal sería optar por una técnica de codificación que no aumente considerablemente la dimensionalidad. \n",
    "Por otro lado, el problema consiste en una clasificación binaria. Por ejemplo, se podría utilizar un modelo de regresión logística. Entonces la técnica de codificacióna probar tiene que ser compatible con esto. \n",
    "Técnicas de encoding propuestas:\n",
    "1. Binary encoding \n",
    "2. Feature hashing\n",
    "\n",
    "\n",
    "\n",
    "\n",
    "\n"
   ]
  },
  {
   "cell_type": "markdown",
   "id": "8743168d",
   "metadata": {},
   "source": [
    "### enconding de 'RainToday': One Hot Encoding k-1 "
   ]
  },
  {
   "cell_type": "code",
   "execution_count": 185,
   "id": "40f21ce7",
   "metadata": {},
   "outputs": [],
   "source": [
    "## ====== enconding de 'RainToday': One Hot Encoding k-1 ======\n",
    "\n",
    "#codificador OneHotEncoder k-1\n",
    "ohe_encoder_Kmenos1 = OneHotEncoder(categories='auto',\n",
    "                                     drop='first',  # k-1\n",
    "                                     sparse=False  # No devolver una matriz esparsa\n",
    ")\n",
    "\n"
   ]
  },
  {
   "cell_type": "code",
   "execution_count": 186,
   "id": "f1669716",
   "metadata": {},
   "outputs": [
    {
     "name": "stderr",
     "output_type": "stream",
     "text": [
      "c:\\Users\\alede\\AppData\\Local\\Programs\\Python\\Python38\\lib\\site-packages\\sklearn\\preprocessing\\_encoders.py:868: FutureWarning: `sparse` was renamed to `sparse_output` in version 1.2 and will be removed in 1.4. `sparse_output` is ignored unless you leave `sparse` to its default value.\n",
      "  warnings.warn(\n"
     ]
    },
    {
     "data": {
      "text/plain": [
       "[array(['Missing', 'No', 'Yes'], dtype=object)]"
      ]
     },
     "execution_count": 186,
     "metadata": {},
     "output_type": "execute_result"
    }
   ],
   "source": [
    "# Ajustar en el train dataset\n",
    "ohe_encoder_Kmenos1.fit(X_train[['RainToday']].fillna('Missing')) #\n",
    "ohe_encoder_Kmenos1.categories_"
   ]
  },
  {
   "cell_type": "code",
   "execution_count": 187,
   "id": "ef407fb6",
   "metadata": {},
   "outputs": [],
   "source": [
    "# Transformar en el train dataset\n",
    "X_train_RainToday_ohe_encoded = ohe_encoder_Kmenos1.transform(X_train[['RainToday']].fillna('Missing')) #\n",
    "\n",
    "# Transformar en el test dataset\n",
    "X_test_RainToday_ohe_encoded = ohe_encoder_Kmenos1.transform(X_test[['RainToday']].fillna('Missing')) #"
   ]
  },
  {
   "cell_type": "code",
   "execution_count": 188,
   "id": "83511c75",
   "metadata": {},
   "outputs": [],
   "source": [
    "#  nombres de columna para las características codificadas\n",
    "encoded_feature_names = ohe_encoder_Kmenos1.get_feature_names_out(['RainToday'])\n",
    "\n",
    "# Crear DataFrames con las características codificadas\n",
    "encoded_train_df = pd.DataFrame(\n",
    "    X_train_RainToday_ohe_encoded, \n",
    "    columns=encoded_feature_names, \n",
    "    index=X_train.index) # el \"index\" fue necesario agregarlo sino no coincidian los indices al concatenar mas adelante los dataframes, entonces no coincidia la codificación con el valor del registro de la variable no codificada\n",
    "\n",
    "encoded_test_df = pd.DataFrame(X_test_RainToday_ohe_encoded, columns=encoded_feature_names, index=X_test.index)\n"
   ]
  },
  {
   "cell_type": "code",
   "execution_count": 191,
   "id": "6b80aa24",
   "metadata": {},
   "outputs": [
    {
     "name": "stdout",
     "output_type": "stream",
     "text": [
      "RainToday_No     0\n",
      "RainToday_Yes    0\n",
      "dtype: int64\n",
      "RainToday_No     0\n",
      "RainToday_Yes    0\n",
      "dtype: int64\n",
      "RainTomorrow    2269\n",
      "dtype: int64\n"
     ]
    }
   ],
   "source": [
    "# Verificar si hay valores faltantes en los datos\n",
    "\n",
    "y_train_df = pd.DataFrame(y_train, columns=['RainTomorrow'], index=y_train.index) # convertir y_train de Series a DataFrame, mateniendo la coincidencia entre índices.\n",
    "\n",
    "print(encoded_train_df.isnull().sum())\n",
    "print(encoded_test_df.isnull().sum())\n",
    "print(y_train_df.isnull().sum())"
   ]
  },
  {
   "cell_type": "code",
   "execution_count": 192,
   "id": "020df94d",
   "metadata": {},
   "outputs": [],
   "source": [
    "# Filtrar los registros no nulos en y_train\n",
    "y_train_sinNaN = y_train.dropna()\n",
    "\n",
    "# Mantener solo los registros coincidentes en X_train_filtered\n",
    "X_train_filtered_sinNaNenY = encoded_train_df.loc[y_train_sinNaN.index]\n",
    "\n",
    "\n",
    "# Filtrar los registros no nulos en y_test\n",
    "y_test_sinNaN = y_test.dropna()\n",
    "\n",
    "# Mantener solo los registros coincidentes en X_train_filtered\n",
    "X_test_filtered_sinNaNenY = encoded_test_df.loc[y_test_sinNaN.index]"
   ]
  },
  {
   "cell_type": "code",
   "execution_count": 193,
   "id": "9b085702",
   "metadata": {},
   "outputs": [],
   "source": [
    "# Crear un modelo de regresión logística\n",
    "model = LogisticRegression()"
   ]
  },
  {
   "cell_type": "code",
   "execution_count": 194,
   "id": "ef17aad1",
   "metadata": {},
   "outputs": [
    {
     "data": {
      "text/html": [
       "<style>#sk-container-id-2 {color: black;background-color: white;}#sk-container-id-2 pre{padding: 0;}#sk-container-id-2 div.sk-toggleable {background-color: white;}#sk-container-id-2 label.sk-toggleable__label {cursor: pointer;display: block;width: 100%;margin-bottom: 0;padding: 0.3em;box-sizing: border-box;text-align: center;}#sk-container-id-2 label.sk-toggleable__label-arrow:before {content: \"▸\";float: left;margin-right: 0.25em;color: #696969;}#sk-container-id-2 label.sk-toggleable__label-arrow:hover:before {color: black;}#sk-container-id-2 div.sk-estimator:hover label.sk-toggleable__label-arrow:before {color: black;}#sk-container-id-2 div.sk-toggleable__content {max-height: 0;max-width: 0;overflow: hidden;text-align: left;background-color: #f0f8ff;}#sk-container-id-2 div.sk-toggleable__content pre {margin: 0.2em;color: black;border-radius: 0.25em;background-color: #f0f8ff;}#sk-container-id-2 input.sk-toggleable__control:checked~div.sk-toggleable__content {max-height: 200px;max-width: 100%;overflow: auto;}#sk-container-id-2 input.sk-toggleable__control:checked~label.sk-toggleable__label-arrow:before {content: \"▾\";}#sk-container-id-2 div.sk-estimator input.sk-toggleable__control:checked~label.sk-toggleable__label {background-color: #d4ebff;}#sk-container-id-2 div.sk-label input.sk-toggleable__control:checked~label.sk-toggleable__label {background-color: #d4ebff;}#sk-container-id-2 input.sk-hidden--visually {border: 0;clip: rect(1px 1px 1px 1px);clip: rect(1px, 1px, 1px, 1px);height: 1px;margin: -1px;overflow: hidden;padding: 0;position: absolute;width: 1px;}#sk-container-id-2 div.sk-estimator {font-family: monospace;background-color: #f0f8ff;border: 1px dotted black;border-radius: 0.25em;box-sizing: border-box;margin-bottom: 0.5em;}#sk-container-id-2 div.sk-estimator:hover {background-color: #d4ebff;}#sk-container-id-2 div.sk-parallel-item::after {content: \"\";width: 100%;border-bottom: 1px solid gray;flex-grow: 1;}#sk-container-id-2 div.sk-label:hover label.sk-toggleable__label {background-color: #d4ebff;}#sk-container-id-2 div.sk-serial::before {content: \"\";position: absolute;border-left: 1px solid gray;box-sizing: border-box;top: 0;bottom: 0;left: 50%;z-index: 0;}#sk-container-id-2 div.sk-serial {display: flex;flex-direction: column;align-items: center;background-color: white;padding-right: 0.2em;padding-left: 0.2em;position: relative;}#sk-container-id-2 div.sk-item {position: relative;z-index: 1;}#sk-container-id-2 div.sk-parallel {display: flex;align-items: stretch;justify-content: center;background-color: white;position: relative;}#sk-container-id-2 div.sk-item::before, #sk-container-id-2 div.sk-parallel-item::before {content: \"\";position: absolute;border-left: 1px solid gray;box-sizing: border-box;top: 0;bottom: 0;left: 50%;z-index: -1;}#sk-container-id-2 div.sk-parallel-item {display: flex;flex-direction: column;z-index: 1;position: relative;background-color: white;}#sk-container-id-2 div.sk-parallel-item:first-child::after {align-self: flex-end;width: 50%;}#sk-container-id-2 div.sk-parallel-item:last-child::after {align-self: flex-start;width: 50%;}#sk-container-id-2 div.sk-parallel-item:only-child::after {width: 0;}#sk-container-id-2 div.sk-dashed-wrapped {border: 1px dashed gray;margin: 0 0.4em 0.5em 0.4em;box-sizing: border-box;padding-bottom: 0.4em;background-color: white;}#sk-container-id-2 div.sk-label label {font-family: monospace;font-weight: bold;display: inline-block;line-height: 1.2em;}#sk-container-id-2 div.sk-label-container {text-align: center;}#sk-container-id-2 div.sk-container {/* jupyter's `normalize.less` sets `[hidden] { display: none; }` but bootstrap.min.css set `[hidden] { display: none !important; }` so we also need the `!important` here to be able to override the default hidden behavior on the sphinx rendered scikit-learn.org. See: https://github.com/scikit-learn/scikit-learn/issues/21755 */display: inline-block !important;position: relative;}#sk-container-id-2 div.sk-text-repr-fallback {display: none;}</style><div id=\"sk-container-id-2\" class=\"sk-top-container\"><div class=\"sk-text-repr-fallback\"><pre>LogisticRegression()</pre><b>In a Jupyter environment, please rerun this cell to show the HTML representation or trust the notebook. <br />On GitHub, the HTML representation is unable to render, please try loading this page with nbviewer.org.</b></div><div class=\"sk-container\" hidden><div class=\"sk-item\"><div class=\"sk-estimator sk-toggleable\"><input class=\"sk-toggleable__control sk-hidden--visually\" id=\"sk-estimator-id-2\" type=\"checkbox\" checked><label for=\"sk-estimator-id-2\" class=\"sk-toggleable__label sk-toggleable__label-arrow\">LogisticRegression</label><div class=\"sk-toggleable__content\"><pre>LogisticRegression()</pre></div></div></div></div></div>"
      ],
      "text/plain": [
       "LogisticRegression()"
      ]
     },
     "execution_count": 194,
     "metadata": {},
     "output_type": "execute_result"
    }
   ],
   "source": [
    "# Ajustar el modelo utilizando las características codificadas filtradas\n",
    "model.fit(X_train_filtered_sinNaNenY, y_train_sinNaN)"
   ]
  },
  {
   "cell_type": "code",
   "execution_count": 195,
   "id": "5b650044",
   "metadata": {},
   "outputs": [
    {
     "name": "stdout",
     "output_type": "stream",
     "text": [
      "Accuracy: 0.7737\n"
     ]
    }
   ],
   "source": [
    "# Predecir en el conjunto de prueba\n",
    "y_pred = model.predict(X_test_filtered_sinNaNenY)\n",
    "\n",
    "# Calcular la precisión\n",
    "accuracy = accuracy_score(y_test_sinNaN, y_pred)\n",
    "print(f'Accuracy: {accuracy:.4f}')"
   ]
  },
  {
   "cell_type": "code",
   "execution_count": 196,
   "id": "8cf9a099",
   "metadata": {},
   "outputs": [
    {
     "data": {
      "text/plain": [
       "RainTomorrow\n",
       "No              42640\n",
       "Name: count, dtype: int64"
      ]
     },
     "execution_count": 196,
     "metadata": {},
     "output_type": "execute_result"
    }
   ],
   "source": [
    "pd.DataFrame(y_pred, columns=['RainTomorrow']).value_counts()\n",
    "\n"
   ]
  },
  {
   "cell_type": "code",
   "execution_count": 197,
   "id": "89128723",
   "metadata": {},
   "outputs": [
    {
     "data": {
      "text/plain": [
       "RainTomorrow\n",
       "No              28832\n",
       "Yes              8312\n",
       "Name: count, dtype: int64"
      ]
     },
     "execution_count": 197,
     "metadata": {},
     "output_type": "execute_result"
    }
   ],
   "source": [
    "pd.DataFrame(y_test_sinNaN_sinNaNenX, columns=['RainTomorrow']).value_counts()"
   ]
  },
  {
   "cell_type": "markdown",
   "id": "ac19afe0",
   "metadata": {},
   "source": [
    "### enconding de 'WindGustDir' , 'WindDir9am', 'WindDir3pm': Ordinal encoding"
   ]
  },
  {
   "cell_type": "code",
   "execution_count": 198,
   "id": "1ce14e63",
   "metadata": {},
   "outputs": [
    {
     "name": "stdout",
     "output_type": "stream",
     "text": [
      "{'N': 100, 'E': 200, 'S': 300, 'W': 400, 'NN': 110, 'NE': 120, 'NS': 130, 'NW': 140, 'EN': 210, 'EE': 220, 'ES': 230, 'EW': 240, 'SN': 310, 'SE': 320, 'SS': 330, 'SW': 340, 'WN': 410, 'WE': 420, 'WS': 430, 'WW': 440, 'NNN': 111, 'NNE': 112, 'NNS': 113, 'NNW': 114, 'NEN': 121, 'NEE': 122, 'NES': 123, 'NEW': 124, 'NSN': 131, 'NSE': 132, 'NSS': 133, 'NSW': 134, 'NWN': 141, 'NWE': 142, 'NWS': 143, 'NWW': 144, 'ENN': 211, 'ENE': 212, 'ENS': 213, 'ENW': 214, 'EEN': 221, 'EEE': 222, 'EES': 223, 'EEW': 224, 'ESN': 231, 'ESE': 232, 'ESS': 233, 'ESW': 234, 'EWN': 241, 'EWE': 242, 'EWS': 243, 'EWW': 244, 'SNN': 311, 'SNE': 312, 'SNS': 313, 'SNW': 314, 'SEN': 321, 'SEE': 322, 'SES': 323, 'SEW': 324, 'SSN': 331, 'SSE': 332, 'SSS': 333, 'SSW': 334, 'SWN': 341, 'SWE': 342, 'SWS': 343, 'SWW': 344, 'WNN': 411, 'WNE': 412, 'WNS': 413, 'WNW': 414, 'WEN': 421, 'WEE': 422, 'WES': 423, 'WEW': 424, 'WSN': 431, 'WSE': 432, 'WSS': 433, 'WSW': 434, 'WWN': 441, 'WWE': 442, 'WWS': 443, 'WWW': 444}\n"
     ]
    }
   ],
   "source": [
    "## ====== enconding de 'WindGustDir' , 'WindDir9am', 'WindDir3pm': Ordinal encoding ======\n",
    "\n",
    "## solo para 'WindGustDir', los pasos son iguales para las otras variables\n",
    "\n",
    "## el encoding a realizar consiste en dar valores numéricos ordenados según de que direccion se trate: 'N', 'E', 'S', 'W'. Teniendo en cuenta que la variable\n",
    "## toma valores de hastra 3 caracteres conformados por esas direcciones. \n",
    "## para no perder el orden la codificación realizada consiste en codificar la variable en valores de 3 digitos, por ejemplo:\n",
    "## 'N':100, 'NW':140 , 'NWE':142, 'S':300, 'SW':340 , 'SWE':342.\n",
    "## Es decir que se siguen las siguientes reglas:\n",
    "## si la longitud del registro no codificado es 1 entonces reemplazar la letra por su valor y multiplicar por 100. \n",
    "# Sino, si la longitud del registro en possible_combinations es 2 entonces reemplazar por el valor de la primer letra multiplicada por 100 \n",
    "# + el valor de la segunda letra multiplicada por 10.\n",
    "# Sino, si la longitud del registro en possible_combinations es 3 entonces reemplzara cada letra por su valor. \n",
    "# Sino, reemplazar por -999\n",
    "\n",
    "import itertools\n",
    "\n",
    "# Generar todas las combinaciones posibles de 1, 2 y 3 caracteres\n",
    "possible_combinations1 = ['N', 'E', 'S', 'W']\n",
    "possible_combinations2 = [''.join(p) for p in itertools.product('NESW', repeat=2)]\n",
    "possible_combinations3 = [''.join(p) for p in itertools.product('NESW', repeat=3)]\n",
    "\n",
    "# Combinar todas las combinaciones en un solo dataset\n",
    "all_possible_combinations = possible_combinations1 + possible_combinations2 + possible_combinations3\n",
    "\n",
    "# Crear un DataFrame\n",
    "data = pd.DataFrame({'DireccionViento': all_possible_combinations})\n",
    "\n",
    "direction_mapping = {\n",
    "    'N': 1,\n",
    "    'E': 2,\n",
    "    'S': 3,\n",
    "    'W': 4\n",
    "}\n",
    "\n",
    "directions_encoded = {}\n",
    "\n",
    "for dir in all_possible_combinations:\n",
    "    if len(dir) == 1:\n",
    "        dir_encoded = direction_mapping.get(dir, -999) * 100\n",
    "    elif len(dir) == 2:\n",
    "        dir_encoded = (direction_mapping.get(dir[0], -999) * 100) + (direction_mapping.get(dir[1], -999) * 10)\n",
    "    elif len(dir) == 3:\n",
    "        dir_encoded = int(''.join([str(direction_mapping.get(letter, -999)) for letter in dir]))\n",
    "    else:\n",
    "        dir_encoded = -999\n",
    "    \n",
    "    directions_encoded[dir] = dir_encoded\n",
    "\n",
    "print(directions_encoded)"
   ]
  },
  {
   "cell_type": "code",
   "execution_count": 199,
   "id": "5a9d5bfc",
   "metadata": {},
   "outputs": [
    {
     "name": "stdout",
     "output_type": "stream",
     "text": [
      "       WindGustDir  WindGustDir _codificado\n",
      "141565           E                    200.0\n",
      "85325            E                    200.0\n",
      "17847          NaN                      NaN\n",
      "69746           SE                    320.0\n",
      "98356            S                    300.0\n",
      "...            ...                      ...\n",
      "110268         NaN                      NaN\n",
      "119879           E                    200.0\n",
      "103694          SE                    320.0\n",
      "131932         NNE                    112.0\n",
      "121958         WSW                    434.0\n",
      "\n",
      "[101822 rows x 2 columns]\n",
      "       WindGustDir  WindGustDir _codificado\n",
      "100721         NNW                    114.0\n",
      "30234          NaN                      NaN\n",
      "68427            N                    100.0\n",
      "28624           NE                    120.0\n",
      "31173          SSW                    334.0\n",
      "...            ...                      ...\n",
      "130665         NNW                    114.0\n",
      "67453          ESE                    232.0\n",
      "19257            S                    300.0\n",
      "13928           SW                    340.0\n",
      "75366           SW                    340.0\n",
      "\n",
      "[43638 rows x 2 columns]\n"
     ]
    }
   ],
   "source": [
    "# Aplicar el mapeo a la variable WindGustDir\n",
    "X_train['WindGustDir _codificado'] = X_train['WindGustDir'].map(directions_encoded)\n",
    "X_test['WindGustDir _codificado'] = X_test['WindGustDir'].map(directions_encoded)\n",
    "\n",
    "# Mostrar los primeros registros para verificar\n",
    "print(X_train[['WindGustDir','WindGustDir _codificado']])\n",
    "print(X_test[['WindGustDir','WindGustDir _codificado']])"
   ]
  },
  {
   "cell_type": "code",
   "execution_count": 200,
   "id": "ed07572a",
   "metadata": {},
   "outputs": [
    {
     "data": {
      "text/html": [
       "<div>\n",
       "<style scoped>\n",
       "    .dataframe tbody tr th:only-of-type {\n",
       "        vertical-align: middle;\n",
       "    }\n",
       "\n",
       "    .dataframe tbody tr th {\n",
       "        vertical-align: top;\n",
       "    }\n",
       "\n",
       "    .dataframe thead th {\n",
       "        text-align: right;\n",
       "    }\n",
       "</style>\n",
       "<table border=\"1\" class=\"dataframe\">\n",
       "  <thead>\n",
       "    <tr style=\"text-align: right;\">\n",
       "      <th></th>\n",
       "      <th>Location</th>\n",
       "      <th>WindDir9am</th>\n",
       "      <th>WindDir3pm</th>\n",
       "      <th>RainToday</th>\n",
       "      <th>WindGustDir _codificado</th>\n",
       "    </tr>\n",
       "  </thead>\n",
       "  <tbody>\n",
       "    <tr>\n",
       "      <th>100721</th>\n",
       "      <td>MountGambier</td>\n",
       "      <td>NNW</td>\n",
       "      <td>NW</td>\n",
       "      <td>Yes</td>\n",
       "      <td>114.0</td>\n",
       "    </tr>\n",
       "    <tr>\n",
       "      <th>30234</th>\n",
       "      <td>Sydney</td>\n",
       "      <td>W</td>\n",
       "      <td>WNW</td>\n",
       "      <td>No</td>\n",
       "      <td>NaN</td>\n",
       "    </tr>\n",
       "    <tr>\n",
       "      <th>68427</th>\n",
       "      <td>Melbourne</td>\n",
       "      <td>N</td>\n",
       "      <td>N</td>\n",
       "      <td>NaN</td>\n",
       "      <td>100.0</td>\n",
       "    </tr>\n",
       "    <tr>\n",
       "      <th>28624</th>\n",
       "      <td>Richmond</td>\n",
       "      <td>NaN</td>\n",
       "      <td>NE</td>\n",
       "      <td>No</td>\n",
       "      <td>120.0</td>\n",
       "    </tr>\n",
       "    <tr>\n",
       "      <th>31173</th>\n",
       "      <td>Sydney</td>\n",
       "      <td>SW</td>\n",
       "      <td>S</td>\n",
       "      <td>Yes</td>\n",
       "      <td>334.0</td>\n",
       "    </tr>\n",
       "    <tr>\n",
       "      <th>...</th>\n",
       "      <td>...</td>\n",
       "      <td>...</td>\n",
       "      <td>...</td>\n",
       "      <td>...</td>\n",
       "      <td>...</td>\n",
       "    </tr>\n",
       "    <tr>\n",
       "      <th>130665</th>\n",
       "      <td>Hobart</td>\n",
       "      <td>N</td>\n",
       "      <td>N</td>\n",
       "      <td>No</td>\n",
       "      <td>114.0</td>\n",
       "    </tr>\n",
       "    <tr>\n",
       "      <th>67453</th>\n",
       "      <td>Melbourne</td>\n",
       "      <td>N</td>\n",
       "      <td>WNW</td>\n",
       "      <td>No</td>\n",
       "      <td>232.0</td>\n",
       "    </tr>\n",
       "    <tr>\n",
       "      <th>19257</th>\n",
       "      <td>NorahHead</td>\n",
       "      <td>SW</td>\n",
       "      <td>SSW</td>\n",
       "      <td>Yes</td>\n",
       "      <td>300.0</td>\n",
       "    </tr>\n",
       "    <tr>\n",
       "      <th>13928</th>\n",
       "      <td>Moree</td>\n",
       "      <td>SSW</td>\n",
       "      <td>SW</td>\n",
       "      <td>No</td>\n",
       "      <td>340.0</td>\n",
       "    </tr>\n",
       "    <tr>\n",
       "      <th>75366</th>\n",
       "      <td>Portland</td>\n",
       "      <td>ENE</td>\n",
       "      <td>NE</td>\n",
       "      <td>No</td>\n",
       "      <td>340.0</td>\n",
       "    </tr>\n",
       "  </tbody>\n",
       "</table>\n",
       "<p>43638 rows × 5 columns</p>\n",
       "</div>"
      ],
      "text/plain": [
       "            Location WindDir9am WindDir3pm RainToday  WindGustDir _codificado\n",
       "100721  MountGambier        NNW         NW       Yes                    114.0\n",
       "30234         Sydney          W        WNW        No                      NaN\n",
       "68427      Melbourne          N          N       NaN                    100.0\n",
       "28624       Richmond        NaN         NE        No                    120.0\n",
       "31173         Sydney         SW          S       Yes                    334.0\n",
       "...              ...        ...        ...       ...                      ...\n",
       "130665        Hobart          N          N        No                    114.0\n",
       "67453      Melbourne          N        WNW        No                    232.0\n",
       "19257      NorahHead         SW        SSW       Yes                    300.0\n",
       "13928          Moree        SSW         SW        No                    340.0\n",
       "75366       Portland        ENE         NE        No                    340.0\n",
       "\n",
       "[43638 rows x 5 columns]"
      ]
     },
     "execution_count": 200,
     "metadata": {},
     "output_type": "execute_result"
    }
   ],
   "source": [
    "# Eliminar la variable sin codificar\n",
    "X_train.drop(columns=['WindGustDir'])\n",
    "X_test.drop(columns=['WindGustDir'])"
   ]
  },
  {
   "cell_type": "code",
   "execution_count": 201,
   "id": "d5933d19",
   "metadata": {},
   "outputs": [],
   "source": [
    "# dejar solo las columnas relevantes para el modelo\n",
    "X_train_encoded = X_train[['WindGustDir _codificado']]\n",
    "X_test_encoded = X_test[['WindGustDir _codificado']]"
   ]
  },
  {
   "cell_type": "code",
   "execution_count": 202,
   "id": "3467fc06",
   "metadata": {},
   "outputs": [
    {
     "name": "stdout",
     "output_type": "stream",
     "text": [
      "WindGustDir _codificado    7186\n",
      "dtype: int64\n",
      "WindGustDir _codificado    3140\n",
      "dtype: int64\n",
      "RainTomorrow    2269\n",
      "dtype: int64\n"
     ]
    }
   ],
   "source": [
    "# Verificar si hay valores faltantes en los datos\n",
    "\n",
    "y_train_df = pd.DataFrame(y_train, columns=['RainTomorrow'], index=y_train.index) # convertir y_train de Series a DataFrame, mateniendo la coincidencia entre índices.\n",
    "\n",
    "print(X_train_encoded[['WindGustDir _codificado']].isnull().sum())\n",
    "print(X_test_encoded[['WindGustDir _codificado']].isnull().sum())\n",
    "print(y_train_df.isnull().sum())\n",
    "\n"
   ]
  },
  {
   "cell_type": "code",
   "execution_count": 203,
   "id": "a254f4d6",
   "metadata": {},
   "outputs": [
    {
     "name": "stdout",
     "output_type": "stream",
     "text": [
      "(93023, 1)\n",
      "(93023,)\n",
      "(39840, 1)\n",
      "(39840,)\n"
     ]
    }
   ],
   "source": [
    "#eliminando valores nulos sino despues va a dar error con el modelo\n",
    "\n",
    "#----------- train -----\n",
    "# Filtrar los registros no nulos en y_train\n",
    "y_train_sinNaN = y_train.dropna()\n",
    "# Mantener solo los registros coincidentes en X_train_filtered\n",
    "X_train_encoded_sinNaNenY = X_train_encoded.loc[y_train_sinNaN.index]\n",
    "\n",
    "# Filtrar los registros no nulos en X_train_encoded\n",
    "X_train_encoded_sinNaNenYyX = X_train_encoded_sinNaNenY.dropna()\n",
    "# Mantener solo los registros coincidentes en X_train_filtered\n",
    "y_train_sinNaN_sinNaNenX = y_train_sinNaN.loc[X_train_encoded_sinNaNenYyX.index]\n",
    "\n",
    "print(X_train_encoded_sinNaNenYyX.shape)\n",
    "print(y_train_sinNaN_sinNaNenX.shape)\n",
    "\n",
    "#----------- test -----\n",
    "\n",
    "# Filtrar los registros no nulos en y_test\n",
    "y_test_sinNaN = y_test.dropna()\n",
    "# Mantener solo los registros coincidentes en X_train_encoded\n",
    "X_test_encoded_sinNaNenY = X_test_encoded.loc[y_test_sinNaN.index]\n",
    "\n",
    "# Filtrar los registros no nulos en X_test_encoded\n",
    "X_test_encoded_sinNaNenYyX = X_test_encoded_sinNaNenY.dropna()\n",
    "# Mantener solo los registros coincidentes en y_test_sinNaN\n",
    "y_test_sinNaN_sinNaNenX = y_test_sinNaN.loc[X_test_encoded_sinNaNenYyX.index]\n",
    "\n",
    "print(X_test_encoded_sinNaNenYyX.shape)\n",
    "print(y_test_sinNaN_sinNaNenX.shape)"
   ]
  },
  {
   "cell_type": "code",
   "execution_count": 204,
   "id": "4fc5b67b",
   "metadata": {},
   "outputs": [
    {
     "name": "stdout",
     "output_type": "stream",
     "text": [
      "Accuracy: 0.7760\n"
     ]
    }
   ],
   "source": [
    "## evaluar desempeño del modelo luego de la codificacion de la variable de entrada\n",
    "\n",
    "# Crear un modelo de regresión logística\n",
    "model = LogisticRegression()\n",
    "\n",
    "# Ajustar el modelo utilizando las varaiables codificadas \n",
    "model.fit(X_train_encoded_sinNaNenYyX, y_train_sinNaN_sinNaNenX)\n",
    "\n",
    "# Predecir en el conjunto de prueba\n",
    "y_pred = model.predict(X_test_encoded_sinNaNenYyX)\n",
    "\n",
    "# Calcular la precisión\n",
    "accuracy = accuracy_score(y_test_sinNaN_sinNaNenX, y_pred)\n",
    "print(f'Accuracy: {accuracy:.4f}')\n"
   ]
  },
  {
   "cell_type": "code",
   "execution_count": 205,
   "id": "36f1d6cf",
   "metadata": {},
   "outputs": [
    {
     "data": {
      "text/plain": [
       "RainTomorrow\n",
       "No              39840\n",
       "Name: count, dtype: int64"
      ]
     },
     "execution_count": 205,
     "metadata": {},
     "output_type": "execute_result"
    }
   ],
   "source": [
    "pd.DataFrame(y_pred, columns=['RainTomorrow']).value_counts()\n",
    "\n"
   ]
  },
  {
   "cell_type": "code",
   "execution_count": 206,
   "id": "7908a432",
   "metadata": {},
   "outputs": [
    {
     "data": {
      "text/plain": [
       "RainTomorrow\n",
       "No              30916\n",
       "Yes              8924\n",
       "Name: count, dtype: int64"
      ]
     },
     "execution_count": 206,
     "metadata": {},
     "output_type": "execute_result"
    }
   ],
   "source": [
    "pd.DataFrame(y_test_sinNaN_sinNaNenX, columns=['RainTomorrow']).value_counts()"
   ]
  },
  {
   "cell_type": "markdown",
   "id": "e1ad4cd1",
   "metadata": {},
   "source": [
    "### enconding de 'Location'"
   ]
  },
  {
   "cell_type": "code",
   "execution_count": 207,
   "id": "169a4a9e",
   "metadata": {},
   "outputs": [],
   "source": [
    "## ====== enconding de 'Location': Binary Encoding ======\n",
    "\n",
    "#pip install category_encoders\n",
    "from category_encoders import BinaryEncoder\n",
    "\n",
    "#http://contrib.scikit-learn.org/category_encoders/binary.html#category_encoders.binary.BinaryEncoder"
   ]
  },
  {
   "cell_type": "code",
   "execution_count": 208,
   "id": "de3ae3c6",
   "metadata": {},
   "outputs": [],
   "source": [
    "\n",
    "# Crear una instancia del BinaryEncoder\n",
    "BiEncoder = BinaryEncoder(cols=['Location'])\n",
    "\n",
    "# Aplicar el encoding y crear un nuevo DataFrame con las columnas codificadas\n",
    "X_train_encoded_be = BiEncoder.fit_transform(X_train['Location'])\n",
    "X_test_encoded_be = BiEncoder.fit_transform(X_test['Location'])\n"
   ]
  },
  {
   "cell_type": "code",
   "execution_count": 247,
   "id": "0a708f62",
   "metadata": {},
   "outputs": [
    {
     "data": {
      "text/html": [
       "<div>\n",
       "<style scoped>\n",
       "    .dataframe tbody tr th:only-of-type {\n",
       "        vertical-align: middle;\n",
       "    }\n",
       "\n",
       "    .dataframe tbody tr th {\n",
       "        vertical-align: top;\n",
       "    }\n",
       "\n",
       "    .dataframe thead th {\n",
       "        text-align: right;\n",
       "    }\n",
       "</style>\n",
       "<table border=\"1\" class=\"dataframe\">\n",
       "  <thead>\n",
       "    <tr style=\"text-align: right;\">\n",
       "      <th></th>\n",
       "      <th>Location_0</th>\n",
       "      <th>Location_1</th>\n",
       "      <th>Location_2</th>\n",
       "      <th>Location_3</th>\n",
       "      <th>Location_4</th>\n",
       "      <th>Location_5</th>\n",
       "    </tr>\n",
       "  </thead>\n",
       "  <tbody>\n",
       "    <tr>\n",
       "      <th>141565</th>\n",
       "      <td>0</td>\n",
       "      <td>0</td>\n",
       "      <td>0</td>\n",
       "      <td>0</td>\n",
       "      <td>0</td>\n",
       "      <td>1</td>\n",
       "    </tr>\n",
       "    <tr>\n",
       "      <th>85325</th>\n",
       "      <td>0</td>\n",
       "      <td>0</td>\n",
       "      <td>0</td>\n",
       "      <td>0</td>\n",
       "      <td>1</td>\n",
       "      <td>0</td>\n",
       "    </tr>\n",
       "    <tr>\n",
       "      <th>17847</th>\n",
       "      <td>0</td>\n",
       "      <td>0</td>\n",
       "      <td>0</td>\n",
       "      <td>0</td>\n",
       "      <td>1</td>\n",
       "      <td>1</td>\n",
       "    </tr>\n",
       "    <tr>\n",
       "      <th>69746</th>\n",
       "      <td>0</td>\n",
       "      <td>0</td>\n",
       "      <td>0</td>\n",
       "      <td>1</td>\n",
       "      <td>0</td>\n",
       "      <td>0</td>\n",
       "    </tr>\n",
       "    <tr>\n",
       "      <th>98356</th>\n",
       "      <td>0</td>\n",
       "      <td>0</td>\n",
       "      <td>0</td>\n",
       "      <td>1</td>\n",
       "      <td>0</td>\n",
       "      <td>1</td>\n",
       "    </tr>\n",
       "  </tbody>\n",
       "</table>\n",
       "</div>"
      ],
      "text/plain": [
       "        Location_0  Location_1  Location_2  Location_3  Location_4  Location_5\n",
       "141565           0           0           0           0           0           1\n",
       "85325            0           0           0           0           1           0\n",
       "17847            0           0           0           0           1           1\n",
       "69746            0           0           0           1           0           0\n",
       "98356            0           0           0           1           0           1"
      ]
     },
     "execution_count": 247,
     "metadata": {},
     "output_type": "execute_result"
    }
   ],
   "source": [
    "X_train_encoded_be.head()"
   ]
  },
  {
   "cell_type": "code",
   "execution_count": 209,
   "id": "80841516",
   "metadata": {},
   "outputs": [],
   "source": [
    "#eliminando valores nulos sino despues va a dar error con el modelo\n",
    "\n",
    "#----------- train -----\n",
    "# Filtrar los registros no nulos en y_train\n",
    "y_train_sinNaN = y_train.dropna()\n",
    "# Mantener solo los registros coincidentes en X_train_filtered\n",
    "X_train_encoded_be_sinNaNenY = X_train_encoded_be.loc[y_train_sinNaN.index]\n",
    "\n",
    "# Filtrar los registros no nulos en X_train_encoded\n",
    "X_train_encoded_be_sinNaNenYyX = X_train_encoded_be_sinNaNenY.dropna()\n",
    "# Mantener solo los registros coincidentes en X_train_filtered\n",
    "y_train_sinNaN_sinNaNenX = y_train_sinNaN.loc[X_train_encoded_be_sinNaNenYyX.index]\n",
    "\n",
    "#----------- test -----\n",
    "\n",
    "# Filtrar los registros no nulos en y_test\n",
    "y_test_sinNaN = y_test.dropna()\n",
    "# Mantener solo los registros coincidentes en X_train_encoded\n",
    "X_test_encoded_be_sinNaNenY = X_test_encoded_be.loc[y_test_sinNaN.index]\n",
    "\n",
    "# Filtrar los registros no nulos en X_test_encoded\n",
    "X_test_encoded_be_sinNaNenYyX = X_test_encoded_be_sinNaNenY.dropna()\n",
    "# Mantener solo los registros coincidentes en y_test_sinNaN\n",
    "y_test_sinNaN_sinNaNenX = y_test_sinNaN.loc[X_test_encoded_be_sinNaNenYyX.index]\n"
   ]
  },
  {
   "cell_type": "code",
   "execution_count": 210,
   "id": "0f92b36e",
   "metadata": {},
   "outputs": [
    {
     "name": "stdout",
     "output_type": "stream",
     "text": [
      "Accuracy: 0.7737\n"
     ]
    }
   ],
   "source": [
    "# Crear un modelo de regresión logística\n",
    "model = LogisticRegression()\n",
    "\n",
    "# Ajustar el modelo\n",
    "model.fit(X_train_encoded_be_sinNaNenYyX, y_train_sinNaN_sinNaNenX )\n",
    "\n",
    "# Predecir en el conjunto de prueba\n",
    "y_pred = model.predict(X_test_encoded_be_sinNaNenYyX)\n",
    "\n",
    "# Calcular la precisión del modelo\n",
    "accuracy = accuracy_score(y_test_sinNaN_sinNaNenX, y_pred)\n",
    "print(f'Accuracy: {accuracy:.4f}')"
   ]
  },
  {
   "cell_type": "code",
   "execution_count": 211,
   "id": "d9924c07",
   "metadata": {},
   "outputs": [
    {
     "data": {
      "text/plain": [
       "RainTomorrow\n",
       "No              42640\n",
       "Name: count, dtype: int64"
      ]
     },
     "execution_count": 211,
     "metadata": {},
     "output_type": "execute_result"
    }
   ],
   "source": [
    "pd.DataFrame(y_pred, columns=['RainTomorrow']).value_counts()\n"
   ]
  },
  {
   "cell_type": "code",
   "execution_count": 212,
   "id": "6b4e94c1",
   "metadata": {},
   "outputs": [
    {
     "data": {
      "text/plain": [
       "RainTomorrow\n",
       "No              32989\n",
       "Yes              9651\n",
       "Name: count, dtype: int64"
      ]
     },
     "execution_count": 212,
     "metadata": {},
     "output_type": "execute_result"
    }
   ],
   "source": [
    "pd.DataFrame(y_test_sinNaN_sinNaNenX, columns=['RainTomorrow']).value_counts()"
   ]
  },
  {
   "cell_type": "code",
   "execution_count": 213,
   "id": "f8c9661a",
   "metadata": {},
   "outputs": [],
   "source": [
    "## ====== enconding de 'Location': Feature hashing ======\n",
    "\n",
    "from category_encoders.hashing import HashingEncoder\n",
    "\n",
    "#http://contrib.scikit-learn.org/category_encoders/hashing.html#category_encoders.hashing.HashingEncoder"
   ]
  },
  {
   "cell_type": "code",
   "execution_count": 248,
   "id": "ff43f600",
   "metadata": {},
   "outputs": [],
   "source": [
    "hash_encoder = HashingEncoder(cols=[\"Location\"], n_components=4)\n",
    "\n",
    "hash_encoder.fit(X_train['Location'])\n",
    "\n",
    "X_train_hash_encoded = hash_encoder.transform(X_train['Location'])\n",
    "X_test_hash_encoded = hash_encoder.transform(X_test['Location'])"
   ]
  },
  {
   "cell_type": "code",
   "execution_count": 249,
   "id": "91bdab69",
   "metadata": {},
   "outputs": [
    {
     "data": {
      "text/html": [
       "<div>\n",
       "<style scoped>\n",
       "    .dataframe tbody tr th:only-of-type {\n",
       "        vertical-align: middle;\n",
       "    }\n",
       "\n",
       "    .dataframe tbody tr th {\n",
       "        vertical-align: top;\n",
       "    }\n",
       "\n",
       "    .dataframe thead th {\n",
       "        text-align: right;\n",
       "    }\n",
       "</style>\n",
       "<table border=\"1\" class=\"dataframe\">\n",
       "  <thead>\n",
       "    <tr style=\"text-align: right;\">\n",
       "      <th></th>\n",
       "      <th>col_0</th>\n",
       "      <th>col_1</th>\n",
       "      <th>col_2</th>\n",
       "      <th>col_3</th>\n",
       "    </tr>\n",
       "  </thead>\n",
       "  <tbody>\n",
       "    <tr>\n",
       "      <th>141565</th>\n",
       "      <td>0</td>\n",
       "      <td>0</td>\n",
       "      <td>0</td>\n",
       "      <td>1</td>\n",
       "    </tr>\n",
       "    <tr>\n",
       "      <th>85325</th>\n",
       "      <td>1</td>\n",
       "      <td>0</td>\n",
       "      <td>0</td>\n",
       "      <td>0</td>\n",
       "    </tr>\n",
       "    <tr>\n",
       "      <th>17847</th>\n",
       "      <td>0</td>\n",
       "      <td>0</td>\n",
       "      <td>1</td>\n",
       "      <td>0</td>\n",
       "    </tr>\n",
       "    <tr>\n",
       "      <th>69746</th>\n",
       "      <td>0</td>\n",
       "      <td>1</td>\n",
       "      <td>0</td>\n",
       "      <td>0</td>\n",
       "    </tr>\n",
       "    <tr>\n",
       "      <th>98356</th>\n",
       "      <td>0</td>\n",
       "      <td>0</td>\n",
       "      <td>0</td>\n",
       "      <td>1</td>\n",
       "    </tr>\n",
       "    <tr>\n",
       "      <th>...</th>\n",
       "      <td>...</td>\n",
       "      <td>...</td>\n",
       "      <td>...</td>\n",
       "      <td>...</td>\n",
       "    </tr>\n",
       "    <tr>\n",
       "      <th>110268</th>\n",
       "      <td>0</td>\n",
       "      <td>0</td>\n",
       "      <td>1</td>\n",
       "      <td>0</td>\n",
       "    </tr>\n",
       "    <tr>\n",
       "      <th>119879</th>\n",
       "      <td>0</td>\n",
       "      <td>0</td>\n",
       "      <td>1</td>\n",
       "      <td>0</td>\n",
       "    </tr>\n",
       "    <tr>\n",
       "      <th>103694</th>\n",
       "      <td>0</td>\n",
       "      <td>0</td>\n",
       "      <td>0</td>\n",
       "      <td>1</td>\n",
       "    </tr>\n",
       "    <tr>\n",
       "      <th>131932</th>\n",
       "      <td>0</td>\n",
       "      <td>1</td>\n",
       "      <td>0</td>\n",
       "      <td>0</td>\n",
       "    </tr>\n",
       "    <tr>\n",
       "      <th>121958</th>\n",
       "      <td>0</td>\n",
       "      <td>0</td>\n",
       "      <td>1</td>\n",
       "      <td>0</td>\n",
       "    </tr>\n",
       "  </tbody>\n",
       "</table>\n",
       "<p>101822 rows × 4 columns</p>\n",
       "</div>"
      ],
      "text/plain": [
       "        col_0  col_1  col_2  col_3\n",
       "141565      0      0      0      1\n",
       "85325       1      0      0      0\n",
       "17847       0      0      1      0\n",
       "69746       0      1      0      0\n",
       "98356       0      0      0      1\n",
       "...       ...    ...    ...    ...\n",
       "110268      0      0      1      0\n",
       "119879      0      0      1      0\n",
       "103694      0      0      0      1\n",
       "131932      0      1      0      0\n",
       "121958      0      0      1      0\n",
       "\n",
       "[101822 rows x 4 columns]"
      ]
     },
     "execution_count": 249,
     "metadata": {},
     "output_type": "execute_result"
    }
   ],
   "source": [
    "X_train_hash_encoded "
   ]
  },
  {
   "cell_type": "code",
   "execution_count": 216,
   "id": "a568e6f0",
   "metadata": {},
   "outputs": [],
   "source": [
    "#eliminando valores nulos sino despues va a dar error con el modelo\n",
    "\n",
    "del y_train_sinNaN, y_train_sinNaN_sinNaNenX, y_test_sinNaN, y_test_sinNaN_sinNaNenX\n",
    "\n",
    "#----------- train -----\n",
    "# Filtrar los registros no nulos en y_train\n",
    "y_train_sinNaN = y_train.dropna()\n",
    "# Mantener solo los registros coincidentes en X_train_filtered\n",
    "X_train_hash_encoded_sinNaNenY = X_train_hash_encoded.loc[y_train_sinNaN.index]\n",
    "\n",
    "# Filtrar los registros no nulos en X_train_encoded\n",
    "X_train_hash_encoded_sinNaNenYyX = X_train_hash_encoded_sinNaNenY.dropna()\n",
    "# Mantener solo los registros coincidentes en X_train_filtered\n",
    "y_train_sinNaN_sinNaNenX = y_train_sinNaN.loc[X_train_hash_encoded_sinNaNenYyX.index]\n",
    "\n",
    "#----------- test -----\n",
    "\n",
    "# Filtrar los registros no nulos en y_test\n",
    "y_test_sinNaN = y_test.dropna()\n",
    "# Mantener solo los registros coincidentes en X_train_encoded\n",
    "X_test_hash_encoded_sinNaNenY = X_test_hash_encoded.loc[y_test_sinNaN.index]\n",
    "\n",
    "# Filtrar los registros no nulos en X_test_encoded\n",
    "X_test_hash_encoded_sinNaNenYyX = X_test_hash_encoded_sinNaNenY.dropna()\n",
    "# Mantener solo los registros coincidentes en y_test_sinNaN\n",
    "y_test_sinNaN_sinNaNenX = y_test_sinNaN.loc[X_test_hash_encoded_sinNaNenYyX.index]"
   ]
  },
  {
   "cell_type": "code",
   "execution_count": 217,
   "id": "41b4ce75",
   "metadata": {},
   "outputs": [
    {
     "name": "stdout",
     "output_type": "stream",
     "text": [
      "Accuracy: 0.7737\n"
     ]
    }
   ],
   "source": [
    "# Crear un modelo de regresión logística\n",
    "model = LogisticRegression()\n",
    "\n",
    "# Ajustar el modelo\n",
    "model.fit(X_train_hash_encoded_sinNaNenYyX, y_train_sinNaN_sinNaNenX )\n",
    "\n",
    "# Predecir en el conjunto de prueba\n",
    "del y_pred\n",
    "y_pred = model.predict(X_test_hash_encoded_sinNaNenYyX)\n",
    "\n",
    "# Calcular la precisión del modelo\n",
    "del accuracy\n",
    "accuracy = accuracy_score(y_test_sinNaN_sinNaNenX, y_pred)\n",
    "print(f'Accuracy: {accuracy:.4f}')"
   ]
  },
  {
   "cell_type": "code",
   "execution_count": 218,
   "id": "248fc3c2",
   "metadata": {},
   "outputs": [
    {
     "data": {
      "text/plain": [
       "RainTomorrow\n",
       "No              42640\n",
       "Name: count, dtype: int64"
      ]
     },
     "execution_count": 218,
     "metadata": {},
     "output_type": "execute_result"
    }
   ],
   "source": [
    "pd.DataFrame(y_pred, columns=['RainTomorrow']).value_counts()"
   ]
  },
  {
   "cell_type": "code",
   "execution_count": 219,
   "id": "4cdeb185",
   "metadata": {},
   "outputs": [
    {
     "data": {
      "text/plain": [
       "RainTomorrow\n",
       "No              32989\n",
       "Yes              9651\n",
       "Name: count, dtype: int64"
      ]
     },
     "execution_count": 219,
     "metadata": {},
     "output_type": "execute_result"
    }
   ],
   "source": [
    "pd.DataFrame(y_test_sinNaN_sinNaNenX, columns=['RainTomorrow']).value_counts()"
   ]
  },
  {
   "cell_type": "markdown",
   "id": "9a8efe62",
   "metadata": {},
   "source": [
    "## **Preparación de los datos: transformación de la variable tipo Fecha**"
   ]
  },
  {
   "cell_type": "code",
   "execution_count": 261,
   "id": "9a3edabb",
   "metadata": {},
   "outputs": [
    {
     "data": {
      "text/html": [
       "<div>\n",
       "<style scoped>\n",
       "    .dataframe tbody tr th:only-of-type {\n",
       "        vertical-align: middle;\n",
       "    }\n",
       "\n",
       "    .dataframe tbody tr th {\n",
       "        vertical-align: top;\n",
       "    }\n",
       "\n",
       "    .dataframe thead th {\n",
       "        text-align: right;\n",
       "    }\n",
       "</style>\n",
       "<table border=\"1\" class=\"dataframe\">\n",
       "  <thead>\n",
       "    <tr style=\"text-align: right;\">\n",
       "      <th></th>\n",
       "      <th>anio</th>\n",
       "      <th>mes</th>\n",
       "      <th>dia</th>\n",
       "    </tr>\n",
       "  </thead>\n",
       "  <tbody>\n",
       "    <tr>\n",
       "      <th>0</th>\n",
       "      <td>2008</td>\n",
       "      <td>12</td>\n",
       "      <td>1</td>\n",
       "    </tr>\n",
       "    <tr>\n",
       "      <th>1</th>\n",
       "      <td>2008</td>\n",
       "      <td>12</td>\n",
       "      <td>2</td>\n",
       "    </tr>\n",
       "    <tr>\n",
       "      <th>2</th>\n",
       "      <td>2008</td>\n",
       "      <td>12</td>\n",
       "      <td>3</td>\n",
       "    </tr>\n",
       "    <tr>\n",
       "      <th>3</th>\n",
       "      <td>2008</td>\n",
       "      <td>12</td>\n",
       "      <td>4</td>\n",
       "    </tr>\n",
       "    <tr>\n",
       "      <th>4</th>\n",
       "      <td>2008</td>\n",
       "      <td>12</td>\n",
       "      <td>5</td>\n",
       "    </tr>\n",
       "  </tbody>\n",
       "</table>\n",
       "</div>"
      ],
      "text/plain": [
       "   anio  mes  dia\n",
       "0  2008   12    1\n",
       "1  2008   12    2\n",
       "2  2008   12    3\n",
       "3  2008   12    4\n",
       "4  2008   12    5"
      ]
     },
     "execution_count": 261,
     "metadata": {},
     "output_type": "execute_result"
    }
   ],
   "source": [
    "df_fecha = pd.DataFrame(pd.to_datetime(australian_weather_data['Date']))\n",
    "df_fecha['anio'] = df_fecha['Date'].dt.year\n",
    "df_fecha['mes'] = df_fecha['Date'].dt.month\n",
    "df_fecha['dia'] = df_fecha['Date'].dt.day\n",
    "\n",
    "# Eliminar la columna 'Date'\n",
    "df_fecha.drop('Date', axis=1, inplace=True)\n",
    "\n",
    "df_fecha.head()"
   ]
  },
  {
   "cell_type": "markdown",
   "id": "ea06d84e",
   "metadata": {},
   "source": [
    "## **Union de todas las variables codificadas en un único dataframe**"
   ]
  },
  {
   "cell_type": "code",
   "execution_count": 251,
   "id": "60cb157a",
   "metadata": {},
   "outputs": [],
   "source": [
    "from functools import reduce"
   ]
  },
  {
   "cell_type": "code",
   "execution_count": 254,
   "id": "0340dbc3",
   "metadata": {},
   "outputs": [
    {
     "name": "stdout",
     "output_type": "stream",
     "text": [
      "<class 'numpy.ndarray'>\n",
      "<class 'pandas.core.frame.DataFrame'>\n",
      "<class 'pandas.core.frame.DataFrame'>\n",
      "<class 'numpy.ndarray'>\n",
      "<class 'pandas.core.frame.DataFrame'>\n",
      "<class 'pandas.core.frame.DataFrame'>\n"
     ]
    }
   ],
   "source": [
    "# verificar los tipos de cada dataset\n",
    "print(type(X_train_RainToday_ohe_encoded))\n",
    "print(type(X_train_encoded))\n",
    "print(type(X_train_hash_encoded))\n",
    "print(type(X_test_RainToday_ohe_encoded))\n",
    "print(type(X_test_encoded))\n",
    "print(type(X_test_hash_encoded))"
   ]
  },
  {
   "cell_type": "code",
   "execution_count": 255,
   "id": "b103e246",
   "metadata": {},
   "outputs": [],
   "source": [
    "# pasar a dataframe los dataset que no lo son\n",
    "X_train_RainToday_ohe_encoded = pd.DataFrame(X_train_RainToday_ohe_encoded)\n",
    "X_test_RainToday_ohe_encoded = pd.DataFrame(X_test_RainToday_ohe_encoded)"
   ]
  },
  {
   "cell_type": "code",
   "execution_count": 264,
   "id": "24171b97",
   "metadata": {},
   "outputs": [],
   "source": [
    "# Función para realizar merge entre dos DataFrames utilizando índices\n",
    "def merge_dataframes(left, right):\n",
    "    return pd.merge(left, right, left_index=True, right_index=True, how='outer')\n",
    "    \n",
    "# DataFrames de Train : X_train_RainToday_ohe_encoded, X_train_encoded y X_train_hash_encoded\n",
    "# Lista de DataFrames a combinar\n",
    "df_list_train = [X_train_RainToday_ohe_encoded, X_train_encoded, X_train_hash_encoded, df_fecha['anio'], df_fecha['mes']  ]\n",
    "# Aplicar reduce para combinar todos los DataFrames\n",
    "X_train_encoded_part = reduce(merge_dataframes, df_list_train)\n",
    "\n",
    "# DataFrames de Train : X_test_RainToday_ohe_encoded, X_test_encoded, X_test_hash_encoded\n",
    "# Lista de DataFrames a combinar\n",
    "df_list_test = [X_test_RainToday_ohe_encoded, X_test_encoded, X_test_hash_encoded, df_fecha['anio'], df_fecha['mes']   ]\n",
    "# Aplicar reduce para combinar todos los DataFrames\n",
    "X_test_encoded_part = reduce(merge_dataframes, df_list_test)\n"
   ]
  },
  {
   "cell_type": "code",
   "execution_count": 266,
   "id": "7ac8a749",
   "metadata": {},
   "outputs": [
    {
     "data": {
      "text/html": [
       "<div>\n",
       "<style scoped>\n",
       "    .dataframe tbody tr th:only-of-type {\n",
       "        vertical-align: middle;\n",
       "    }\n",
       "\n",
       "    .dataframe tbody tr th {\n",
       "        vertical-align: top;\n",
       "    }\n",
       "\n",
       "    .dataframe thead th {\n",
       "        text-align: right;\n",
       "    }\n",
       "</style>\n",
       "<table border=\"1\" class=\"dataframe\">\n",
       "  <thead>\n",
       "    <tr style=\"text-align: right;\">\n",
       "      <th></th>\n",
       "      <th>0</th>\n",
       "      <th>1</th>\n",
       "      <th>WindGustDir _codificado</th>\n",
       "      <th>col_0</th>\n",
       "      <th>col_1</th>\n",
       "      <th>col_2</th>\n",
       "      <th>col_3</th>\n",
       "      <th>anio</th>\n",
       "      <th>mes</th>\n",
       "    </tr>\n",
       "  </thead>\n",
       "  <tbody>\n",
       "    <tr>\n",
       "      <th>count</th>\n",
       "      <td>101822.000000</td>\n",
       "      <td>101822.000000</td>\n",
       "      <td>94636.000000</td>\n",
       "      <td>101822.000000</td>\n",
       "      <td>101822.000000</td>\n",
       "      <td>101822.000000</td>\n",
       "      <td>101822.000000</td>\n",
       "      <td>145460.000000</td>\n",
       "      <td>145460.000000</td>\n",
       "    </tr>\n",
       "    <tr>\n",
       "      <th>mean</th>\n",
       "      <td>0.758323</td>\n",
       "      <td>0.219265</td>\n",
       "      <td>264.989306</td>\n",
       "      <td>0.251773</td>\n",
       "      <td>0.242020</td>\n",
       "      <td>0.251645</td>\n",
       "      <td>0.254562</td>\n",
       "      <td>2012.769751</td>\n",
       "      <td>6.399615</td>\n",
       "    </tr>\n",
       "    <tr>\n",
       "      <th>std</th>\n",
       "      <td>0.428101</td>\n",
       "      <td>0.413751</td>\n",
       "      <td>112.128096</td>\n",
       "      <td>0.434033</td>\n",
       "      <td>0.428309</td>\n",
       "      <td>0.433960</td>\n",
       "      <td>0.435617</td>\n",
       "      <td>2.537684</td>\n",
       "      <td>3.427262</td>\n",
       "    </tr>\n",
       "    <tr>\n",
       "      <th>min</th>\n",
       "      <td>0.000000</td>\n",
       "      <td>0.000000</td>\n",
       "      <td>100.000000</td>\n",
       "      <td>0.000000</td>\n",
       "      <td>0.000000</td>\n",
       "      <td>0.000000</td>\n",
       "      <td>0.000000</td>\n",
       "      <td>2007.000000</td>\n",
       "      <td>1.000000</td>\n",
       "    </tr>\n",
       "    <tr>\n",
       "      <th>25%</th>\n",
       "      <td>1.000000</td>\n",
       "      <td>0.000000</td>\n",
       "      <td>140.000000</td>\n",
       "      <td>0.000000</td>\n",
       "      <td>0.000000</td>\n",
       "      <td>0.000000</td>\n",
       "      <td>0.000000</td>\n",
       "      <td>2011.000000</td>\n",
       "      <td>3.000000</td>\n",
       "    </tr>\n",
       "    <tr>\n",
       "      <th>50%</th>\n",
       "      <td>1.000000</td>\n",
       "      <td>0.000000</td>\n",
       "      <td>300.000000</td>\n",
       "      <td>0.000000</td>\n",
       "      <td>0.000000</td>\n",
       "      <td>0.000000</td>\n",
       "      <td>0.000000</td>\n",
       "      <td>2013.000000</td>\n",
       "      <td>6.000000</td>\n",
       "    </tr>\n",
       "    <tr>\n",
       "      <th>75%</th>\n",
       "      <td>1.000000</td>\n",
       "      <td>0.000000</td>\n",
       "      <td>340.000000</td>\n",
       "      <td>1.000000</td>\n",
       "      <td>0.000000</td>\n",
       "      <td>1.000000</td>\n",
       "      <td>1.000000</td>\n",
       "      <td>2015.000000</td>\n",
       "      <td>9.000000</td>\n",
       "    </tr>\n",
       "    <tr>\n",
       "      <th>max</th>\n",
       "      <td>1.000000</td>\n",
       "      <td>1.000000</td>\n",
       "      <td>434.000000</td>\n",
       "      <td>1.000000</td>\n",
       "      <td>1.000000</td>\n",
       "      <td>1.000000</td>\n",
       "      <td>1.000000</td>\n",
       "      <td>2017.000000</td>\n",
       "      <td>12.000000</td>\n",
       "    </tr>\n",
       "  </tbody>\n",
       "</table>\n",
       "</div>"
      ],
      "text/plain": [
       "                   0              1  WindGustDir _codificado          col_0  \\\n",
       "count  101822.000000  101822.000000             94636.000000  101822.000000   \n",
       "mean        0.758323       0.219265               264.989306       0.251773   \n",
       "std         0.428101       0.413751               112.128096       0.434033   \n",
       "min         0.000000       0.000000               100.000000       0.000000   \n",
       "25%         1.000000       0.000000               140.000000       0.000000   \n",
       "50%         1.000000       0.000000               300.000000       0.000000   \n",
       "75%         1.000000       0.000000               340.000000       1.000000   \n",
       "max         1.000000       1.000000               434.000000       1.000000   \n",
       "\n",
       "               col_1          col_2          col_3           anio  \\\n",
       "count  101822.000000  101822.000000  101822.000000  145460.000000   \n",
       "mean        0.242020       0.251645       0.254562    2012.769751   \n",
       "std         0.428309       0.433960       0.435617       2.537684   \n",
       "min         0.000000       0.000000       0.000000    2007.000000   \n",
       "25%         0.000000       0.000000       0.000000    2011.000000   \n",
       "50%         0.000000       0.000000       0.000000    2013.000000   \n",
       "75%         0.000000       1.000000       1.000000    2015.000000   \n",
       "max         1.000000       1.000000       1.000000    2017.000000   \n",
       "\n",
       "                 mes  \n",
       "count  145460.000000  \n",
       "mean        6.399615  \n",
       "std         3.427262  \n",
       "min         1.000000  \n",
       "25%         3.000000  \n",
       "50%         6.000000  \n",
       "75%         9.000000  \n",
       "max        12.000000  "
      ]
     },
     "execution_count": 266,
     "metadata": {},
     "output_type": "execute_result"
    }
   ],
   "source": [
    "X_train_encoded_part.describe()"
   ]
  },
  {
   "cell_type": "code",
   "execution_count": 267,
   "id": "f2e0df77",
   "metadata": {},
   "outputs": [
    {
     "data": {
      "text/html": [
       "<div>\n",
       "<style scoped>\n",
       "    .dataframe tbody tr th:only-of-type {\n",
       "        vertical-align: middle;\n",
       "    }\n",
       "\n",
       "    .dataframe tbody tr th {\n",
       "        vertical-align: top;\n",
       "    }\n",
       "\n",
       "    .dataframe thead th {\n",
       "        text-align: right;\n",
       "    }\n",
       "</style>\n",
       "<table border=\"1\" class=\"dataframe\">\n",
       "  <thead>\n",
       "    <tr style=\"text-align: right;\">\n",
       "      <th></th>\n",
       "      <th>0</th>\n",
       "      <th>1</th>\n",
       "      <th>WindGustDir _codificado</th>\n",
       "      <th>col_0</th>\n",
       "      <th>col_1</th>\n",
       "      <th>col_2</th>\n",
       "      <th>col_3</th>\n",
       "      <th>anio</th>\n",
       "      <th>mes</th>\n",
       "    </tr>\n",
       "  </thead>\n",
       "  <tbody>\n",
       "    <tr>\n",
       "      <th>count</th>\n",
       "      <td>43638.000000</td>\n",
       "      <td>43638.000000</td>\n",
       "      <td>40498.000000</td>\n",
       "      <td>43638.000000</td>\n",
       "      <td>43638.000000</td>\n",
       "      <td>43638.000000</td>\n",
       "      <td>43638.000000</td>\n",
       "      <td>145460.000000</td>\n",
       "      <td>145460.000000</td>\n",
       "    </tr>\n",
       "    <tr>\n",
       "      <th>mean</th>\n",
       "      <td>0.758628</td>\n",
       "      <td>0.218938</td>\n",
       "      <td>264.412317</td>\n",
       "      <td>0.255351</td>\n",
       "      <td>0.240478</td>\n",
       "      <td>0.252097</td>\n",
       "      <td>0.252074</td>\n",
       "      <td>2012.769751</td>\n",
       "      <td>6.399615</td>\n",
       "    </tr>\n",
       "    <tr>\n",
       "      <th>std</th>\n",
       "      <td>0.427920</td>\n",
       "      <td>0.413531</td>\n",
       "      <td>112.269706</td>\n",
       "      <td>0.436063</td>\n",
       "      <td>0.427379</td>\n",
       "      <td>0.434222</td>\n",
       "      <td>0.434208</td>\n",
       "      <td>2.537684</td>\n",
       "      <td>3.427262</td>\n",
       "    </tr>\n",
       "    <tr>\n",
       "      <th>min</th>\n",
       "      <td>0.000000</td>\n",
       "      <td>0.000000</td>\n",
       "      <td>100.000000</td>\n",
       "      <td>0.000000</td>\n",
       "      <td>0.000000</td>\n",
       "      <td>0.000000</td>\n",
       "      <td>0.000000</td>\n",
       "      <td>2007.000000</td>\n",
       "      <td>1.000000</td>\n",
       "    </tr>\n",
       "    <tr>\n",
       "      <th>25%</th>\n",
       "      <td>1.000000</td>\n",
       "      <td>0.000000</td>\n",
       "      <td>140.000000</td>\n",
       "      <td>0.000000</td>\n",
       "      <td>0.000000</td>\n",
       "      <td>0.000000</td>\n",
       "      <td>0.000000</td>\n",
       "      <td>2011.000000</td>\n",
       "      <td>3.000000</td>\n",
       "    </tr>\n",
       "    <tr>\n",
       "      <th>50%</th>\n",
       "      <td>1.000000</td>\n",
       "      <td>0.000000</td>\n",
       "      <td>300.000000</td>\n",
       "      <td>0.000000</td>\n",
       "      <td>0.000000</td>\n",
       "      <td>0.000000</td>\n",
       "      <td>0.000000</td>\n",
       "      <td>2013.000000</td>\n",
       "      <td>6.000000</td>\n",
       "    </tr>\n",
       "    <tr>\n",
       "      <th>75%</th>\n",
       "      <td>1.000000</td>\n",
       "      <td>0.000000</td>\n",
       "      <td>340.000000</td>\n",
       "      <td>1.000000</td>\n",
       "      <td>0.000000</td>\n",
       "      <td>1.000000</td>\n",
       "      <td>1.000000</td>\n",
       "      <td>2015.000000</td>\n",
       "      <td>9.000000</td>\n",
       "    </tr>\n",
       "    <tr>\n",
       "      <th>max</th>\n",
       "      <td>1.000000</td>\n",
       "      <td>1.000000</td>\n",
       "      <td>434.000000</td>\n",
       "      <td>1.000000</td>\n",
       "      <td>1.000000</td>\n",
       "      <td>1.000000</td>\n",
       "      <td>1.000000</td>\n",
       "      <td>2017.000000</td>\n",
       "      <td>12.000000</td>\n",
       "    </tr>\n",
       "  </tbody>\n",
       "</table>\n",
       "</div>"
      ],
      "text/plain": [
       "                  0             1  WindGustDir _codificado         col_0  \\\n",
       "count  43638.000000  43638.000000             40498.000000  43638.000000   \n",
       "mean       0.758628      0.218938               264.412317      0.255351   \n",
       "std        0.427920      0.413531               112.269706      0.436063   \n",
       "min        0.000000      0.000000               100.000000      0.000000   \n",
       "25%        1.000000      0.000000               140.000000      0.000000   \n",
       "50%        1.000000      0.000000               300.000000      0.000000   \n",
       "75%        1.000000      0.000000               340.000000      1.000000   \n",
       "max        1.000000      1.000000               434.000000      1.000000   \n",
       "\n",
       "              col_1         col_2         col_3           anio            mes  \n",
       "count  43638.000000  43638.000000  43638.000000  145460.000000  145460.000000  \n",
       "mean       0.240478      0.252097      0.252074    2012.769751       6.399615  \n",
       "std        0.427379      0.434222      0.434208       2.537684       3.427262  \n",
       "min        0.000000      0.000000      0.000000    2007.000000       1.000000  \n",
       "25%        0.000000      0.000000      0.000000    2011.000000       3.000000  \n",
       "50%        0.000000      0.000000      0.000000    2013.000000       6.000000  \n",
       "75%        0.000000      1.000000      1.000000    2015.000000       9.000000  \n",
       "max        1.000000      1.000000      1.000000    2017.000000      12.000000  "
      ]
     },
     "execution_count": 267,
     "metadata": {},
     "output_type": "execute_result"
    }
   ],
   "source": [
    "X_test_encoded_part.describe()"
   ]
  },
  {
   "cell_type": "markdown",
   "id": "b540e42c",
   "metadata": {},
   "source": [
    "\n",
    "# Australian Weather: Logistic Regression Classifier\n",
    "\n",
    "https://www.kaggle.com/code/jeffreyjyhuang/australian-weather-logistic-regression-classifier\n",
    "\n",
    "\n",
    "## EDA\n",
    "https://www.kaggle.com/code/fredericods/forecasting-rain/notebook"
   ]
  },
  {
   "cell_type": "markdown",
   "id": "b0d9a37d",
   "metadata": {},
   "source": []
  }
 ],
 "metadata": {
  "kernelspec": {
   "display_name": "Python 3 (ipykernel)",
   "language": "python",
   "name": "python3"
  },
  "language_info": {
   "codemirror_mode": {
    "name": "ipython",
    "version": 3
   },
   "file_extension": ".py",
   "mimetype": "text/x-python",
   "name": "python",
   "nbconvert_exporter": "python",
   "pygments_lexer": "ipython3",
   "version": "3.11.3"
  }
 },
 "nbformat": 4,
 "nbformat_minor": 5
}
